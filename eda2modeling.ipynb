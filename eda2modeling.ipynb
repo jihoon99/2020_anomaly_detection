{
  "cells": [
    {
      "cell_type": "code",
      "execution_count": 4,
      "metadata": {
        "colab": {
          "base_uri": "https://localhost:8080/"
        },
        "id": "Eo4_cfxilig0",
        "outputId": "197e6363-9e32-46f9-eba5-8e6a0ebf85d7"
      },
      "outputs": [
        {
          "name": "stdout",
          "output_type": "stream",
          "text": [
            "Drive already mounted at /gdrive; to attempt to forcibly remount, call drive.mount(\"/gdrive\", force_remount=True).\n",
            "train1.csv  train2.csv\ttrain3.csv\n"
          ]
        }
      ],
      "source": [
        "from google.colab import drive\n",
        "import pandas as pd\n",
        "import numpy as np\n",
        "drive.mount('/gdrive')\n",
        "!ls /gdrive/My\\ Drive/dacon/security_detect/train-dataset/"
      ]
    },
    {
      "cell_type": "code",
      "execution_count": 5,
      "metadata": {
        "colab": {
          "base_uri": "https://localhost:8080/"
        },
        "id": "m5MAznBflni9",
        "outputId": "930957e8-4675-4948-d10d-e0204a37b2ec"
      },
      "outputs": [
        {
          "name": "stdout",
          "output_type": "stream",
          "text": [
            "Processing /gdrive/My Drive/dacon/eTaPR-1.12-py3-none-any.whl\n",
            "eTaPR is already installed with the same version as the provided wheel. Use --force-reinstall to force an installation of the wheel.\n",
            "Requirement already satisfied: opencv-python in /usr/local/lib/python3.7/dist-packages (4.1.2.30)\n",
            "Requirement already satisfied: numpy>=1.14.5 in /usr/local/lib/python3.7/dist-packages (from opencv-python) (1.19.5)\n"
          ]
        }
      ],
      "source": [
        "!pip install /gdrive/My\\ Drive/dacon/eTaPR-1.12-py3-none-any.whl\n",
        "!pip install opencv-python"
      ]
    },
    {
      "cell_type": "code",
      "execution_count": 6,
      "metadata": {
        "colab": {
          "base_uri": "https://localhost:8080/"
        },
        "id": "M4tVDMgPlpen",
        "outputId": "a6a1f692-3f5a-45ae-947c-dbed85db41b0"
      },
      "outputs": [
        {
          "name": "stdout",
          "output_type": "stream",
          "text": [
            "Found GPU at: /device:GPU:0\n",
            "2.7.0\n"
          ]
        },
        {
          "data": {
            "text/plain": [
              "<tf.Tensor: shape=(), dtype=float32, numpy=881.45996>"
            ]
          },
          "execution_count": 6,
          "metadata": {},
          "output_type": "execute_result"
        }
      ],
      "source": [
        "import sys\n",
        "\n",
        "from pathlib import Path\n",
        "from datetime import timedelta\n",
        "\n",
        "import dateutil\n",
        "import numpy as np\n",
        "import matplotlib.pyplot as plt\n",
        "import pandas as pd\n",
        "\n",
        "\n",
        "\n",
        "from tqdm.notebook import trange\n",
        "from TaPR_pkg import etapr\n",
        "\n",
        "import tensorflow as tf\n",
        "device_name = tf.test.gpu_device_name()\n",
        "if device_name != '/device:GPU:0':\n",
        "  raise SystemError('GPU device not found')\n",
        "print('Found GPU at: {}'.format(device_name))\n",
        "\n",
        "import os\n",
        "import sys\n",
        "import numpy as np\n",
        "import pandas as pd\n",
        "import matplotlib.pyplot as plt\n",
        "\n",
        "from tensorflow.keras.models import Model\n",
        "from tensorflow.keras.layers import Dense, Embedding, Input\n",
        "from tensorflow.keras.layers import LSTM, Bidirectional\n",
        "from tensorflow.keras.optimizers import Adam\n",
        "\n",
        "\n",
        "print(tf.version.VERSION)\n",
        "import tensorflow.keras.backend as K\n",
        "\n",
        "def gpu():\n",
        "  with tf.device('/device:GPU:0'):\n",
        "    random_image_gpu = tf.random.normal((100, 100, 100, 3))\n",
        "    net_gpu = tf.keras.layers.Conv2D(32, 7)(random_image_gpu)\n",
        "    return tf.math.reduce_sum(net_gpu)\n",
        "\n",
        "gpu()"
      ]
    },
    {
      "cell_type": "markdown",
      "metadata": {
        "id": "lbh8_JBpl3jK"
      },
      "source": [
        "# 데이터 확인"
      ]
    },
    {
      "cell_type": "markdown",
      "metadata": {
        "id": "joqekUt0Inv6"
      },
      "source": [
        "\n",
        "\n",
        "---\n",
        "\n"
      ]
    },
    {
      "cell_type": "code",
      "execution_count": 7,
      "metadata": {
        "colab": {
          "base_uri": "https://localhost:8080/"
        },
        "id": "hIUqZQYJlw1a",
        "outputId": "1e8f6feb-bc82-4dcc-adc6-36c3f7d00e5b"
      },
      "outputs": [
        {
          "data": {
            "text/plain": [
              "[PosixPath('/gdrive/My Drive/dacon/security_detect/train-dataset/train1.csv'),\n",
              " PosixPath('/gdrive/My Drive/dacon/security_detect/train-dataset/train2.csv'),\n",
              " PosixPath('/gdrive/My Drive/dacon/security_detect/train-dataset/train3.csv')]"
            ]
          },
          "execution_count": 7,
          "metadata": {},
          "output_type": "execute_result"
        }
      ],
      "source": [
        "TRAIN_DATASET = sorted([x for x in Path('/gdrive/My Drive/dacon/security_detect/train-dataset/').glob(\"*.csv\")])\n",
        "TRAIN_DATASET"
      ]
    },
    {
      "cell_type": "code",
      "execution_count": 8,
      "metadata": {
        "colab": {
          "base_uri": "https://localhost:8080/"
        },
        "id": "uieMHu_RlzB0",
        "outputId": "1b252d0d-dd71-43a3-f011-ba1793c18da5"
      },
      "outputs": [
        {
          "data": {
            "text/plain": [
              "[PosixPath('/gdrive/My Drive/dacon/security_detect/test-dataset/test1.csv'),\n",
              " PosixPath('/gdrive/My Drive/dacon/security_detect/test-dataset/test2.csv'),\n",
              " PosixPath('/gdrive/My Drive/dacon/security_detect/test-dataset/test3.csv'),\n",
              " PosixPath('/gdrive/My Drive/dacon/security_detect/test-dataset/test4.csv')]"
            ]
          },
          "execution_count": 8,
          "metadata": {},
          "output_type": "execute_result"
        }
      ],
      "source": [
        "TEST_DATASET = sorted([x for x in Path('/gdrive/My Drive/dacon/security_detect/test-dataset/').glob(\"*.csv\")])\n",
        "TEST_DATASET"
      ]
    },
    {
      "cell_type": "code",
      "execution_count": 9,
      "metadata": {
        "colab": {
          "base_uri": "https://localhost:8080/"
        },
        "id": "ZqZremWrl0wd",
        "outputId": "129e0c6a-3f6b-4352-d28a-debe249276db"
      },
      "outputs": [
        {
          "data": {
            "text/plain": [
              "[PosixPath('/gdrive/My Drive/dacon/security_detect/validation-dataset/validation.csv')]"
            ]
          },
          "execution_count": 9,
          "metadata": {},
          "output_type": "execute_result"
        }
      ],
      "source": [
        "VALIDATION_DATASET = sorted([x for x in Path(\"/gdrive/My Drive/dacon/security_detect/validation-dataset/\").glob(\"*.csv\")])\n",
        "VALIDATION_DATASET"
      ]
    },
    {
      "cell_type": "code",
      "execution_count": 10,
      "metadata": {
        "id": "_zYJvrOKl2IN"
      },
      "outputs": [],
      "source": [
        "def dataframe_from_csv(target):\n",
        "    ''' 데이터 불러오기 '''\n",
        "    return pd.read_csv(target, error_bad_lines=False).rename(columns=lambda x: x.strip())\n",
        "\n",
        "def dataframe_from_csvs(targets):\n",
        "    ''' 데이터 합치기 '''\n",
        "    return pd.concat([dataframe_from_csv(x) for x in targets])"
      ]
    },
    {
      "cell_type": "code",
      "execution_count": 11,
      "metadata": {
        "id": "qBE9VoUfmACH"
      },
      "outputs": [],
      "source": [
        "# 트레인 데이터 불러오기 + 합치기\n",
        "TRAIN_DF_RAW = dataframe_from_csvs(TRAIN_DATASET)"
      ]
    },
    {
      "cell_type": "code",
      "execution_count": 12,
      "metadata": {
        "colab": {
          "base_uri": "https://localhost:8080/"
        },
        "id": "4NPtrl2GmGvB",
        "outputId": "368587f7-e94b-44eb-8dfc-19008c56d6dd"
      },
      "outputs": [
        {
          "data": {
            "text/plain": [
              "Index(['C01', 'C02', 'C03', 'C04', 'C05', 'C06', 'C07', 'C08', 'C09', 'C10',\n",
              "       'C11', 'C12', 'C13', 'C14', 'C15', 'C16', 'C17', 'C18', 'C19', 'C20',\n",
              "       'C21', 'C22', 'C23', 'C24', 'C25', 'C26', 'C27', 'C28', 'C29', 'C30',\n",
              "       'C31', 'C32', 'C33', 'C34', 'C35', 'C36', 'C37', 'C38', 'C39', 'C40',\n",
              "       'C41', 'C42', 'C43', 'C44', 'C45', 'C46', 'C47', 'C48', 'C49', 'C50',\n",
              "       'C51', 'C52', 'C53', 'C54', 'C55', 'C56', 'C57', 'C58', 'C59', 'C60',\n",
              "       'C61', 'C62', 'C63', 'C64', 'C65', 'C66', 'C67', 'C68', 'C69', 'C70',\n",
              "       'C71', 'C72', 'C73', 'C74', 'C75', 'C76', 'C77', 'C78', 'C79'],\n",
              "      dtype='object')"
            ]
          },
          "execution_count": 12,
          "metadata": {},
          "output_type": "execute_result"
        }
      ],
      "source": [
        "TIMESTAMP_FIELD = \"time\"\n",
        "IDSTAMP_FIELD = 'id'\n",
        "ATTACK_FIELD = \"attack\"\n",
        "VALID_COLUMNS_IN_TRAIN_DATASET = TRAIN_DF_RAW.columns.drop([TIMESTAMP_FIELD])\n",
        "VALID_COLUMNS_IN_TRAIN_DATASET # time 컬럼을 제외한 데이터 셋"
      ]
    },
    {
      "cell_type": "markdown",
      "metadata": {
        "id": "PX8W-bqZnwMB"
      },
      "source": [
        "# 전처리"
      ]
    },
    {
      "cell_type": "markdown",
      "metadata": {
        "id": "xvMC-rPymNlx"
      },
      "source": [
        "### 노말라이제이션"
      ]
    },
    {
      "cell_type": "code",
      "execution_count": 13,
      "metadata": {
        "id": "Kw32H-fPmLNY"
      },
      "outputs": [],
      "source": [
        "''' this is for normalization'''\n",
        "\n",
        "TAG_MIN = TRAIN_DF_RAW[VALID_COLUMNS_IN_TRAIN_DATASET].min()\n",
        "TAG_MAX = TRAIN_DF_RAW[VALID_COLUMNS_IN_TRAIN_DATASET].max()\n",
        "# TAG_MIN.to_csv('/gdrive/My Drive/dacon/security_detect/TAG_MIN.csv')\n",
        "# TAG_MAX.to_csv('/gdrive/My Drive/dacon/security_detect/TAG_MAX.csv')\n",
        "\n",
        "# TAG_MIN = pd.read_csv('/gdrive/My Drive/dacon/security_detect/TAG_MIN.csv')\n",
        "# TAG_MAX = pd.read_csv('/gdrive/My Drive/dacon/security_detect/TAG_MAX.csv')"
      ]
    },
    {
      "cell_type": "markdown",
      "metadata": {
        "id": "RKvpyMnuKWXf"
      },
      "source": []
    },
    {
      "cell_type": "code",
      "execution_count": 14,
      "metadata": {
        "id": "DqU-JXC0mPl9"
      },
      "outputs": [],
      "source": [
        "''' 노말라이즈 '''\n",
        "def normalize(df):\n",
        "    ndf = df.copy()\n",
        "    for c in df.columns:\n",
        "        if TAG_MIN[c] == TAG_MAX[c]:\n",
        "            ndf[c] = df[c] - TAG_MIN[c]\n",
        "        else:\n",
        "            ndf[c] = (df[c] - TAG_MIN[c]) / (TAG_MAX[c] - TAG_MIN[c])\n",
        "    return ndf"
      ]
    },
    {
      "cell_type": "code",
      "execution_count": 15,
      "metadata": {
        "id": "fOwHBqFhmP4S"
      },
      "outputs": [],
      "source": [
        "TRAIN_DF = normalize(TRAIN_DF_RAW[VALID_COLUMNS_IN_TRAIN_DATASET])"
      ]
    },
    {
      "cell_type": "code",
      "execution_count": 16,
      "metadata": {
        "id": "cmDNFxvFmRgi"
      },
      "outputs": [],
      "source": [
        "'''지수평활법 ewm'''\n",
        "TRAIN_DF = normalize(TRAIN_DF_RAW[VALID_COLUMNS_IN_TRAIN_DATASET]).ewm(alpha=0.9).mean() # 노말라이즈된 트레이닝 셋"
      ]
    },
    {
      "cell_type": "code",
      "execution_count": 17,
      "metadata": {
        "id": "Wqbisza9mZ7q"
      },
      "outputs": [],
      "source": [
        "def boundary_check(df):\n",
        "  ''' 1보다큰게있는지, 0보다 작은게 있는지, na가 있는지 '''\n",
        "  x = np.array(df, dtype=np.float32)\n",
        "  return np.any(x > 1.0), np.any(x < 0), np.any(np.isnan(x))"
      ]
    },
    {
      "cell_type": "markdown",
      "metadata": {
        "id": "_gdLhXBonCv_"
      },
      "source": [
        "# 시퀀스별로 나누자\n",
        "\n"
      ]
    },
    {
      "cell_type": "code",
      "execution_count": 18,
      "metadata": {
        "colab": {
          "base_uri": "https://localhost:8080/",
          "height": 81,
          "referenced_widgets": [
            "58883d3208bc413ab2201a03e0d25706",
            "01571727fa114702b4c44ca2e320988e",
            "b64a87b1509e44609a1992b0e307edc6",
            "36137003b20f48f886623cbe40799b76",
            "6f27797e7a1c4e79817343ed4e825a02",
            "9ead1146fdbe430b808c82201e29d3d6",
            "1402121bac524305b623d677b953a691",
            "a33eddf4b79a473fbedc30e476623add",
            "ec06c247115f440abe8952d7a3280f58",
            "31a2ae5de7fc42d2ac5ec0dc5d714434",
            "6e5804b365bb435f81cb5a55964d58bb",
            "ce6ba2a5ff624cb4b27cf13aae029d33",
            "6211daf4430c454eb6838a9768cc6615",
            "bada356e272640688ab6cb1087aba90b",
            "c07e0ecb92ef44e28ac0a2aea47bd713",
            "c3e38f98d3c546acb1bfa26dc913cb46",
            "8017f2232e1846d1b60417165264473f",
            "4e9398b25cab495d9907adddf5af1128",
            "b2fd83152c96482ca926a3da0104d6e2",
            "e26b16481ea141a69c33410456775945",
            "e887ca0f79ae480ca71f0959ba3b0913",
            "06539de4839d406a875d929442cd7442"
          ]
        },
        "id": "aHOlsDJJ3zEj",
        "outputId": "37e9c4f2-0f9c-4e9d-8885-3d6037194039"
      },
      "outputs": [
        {
          "data": {
            "application/vnd.jupyter.widget-view+json": {
              "model_id": "58883d3208bc413ab2201a03e0d25706",
              "version_major": 2,
              "version_minor": 0
            },
            "text/plain": [
              "  0%|          | 0/921514 [00:00<?, ?it/s]"
            ]
          },
          "metadata": {},
          "output_type": "display_data"
        },
        {
          "data": {
            "application/vnd.jupyter.widget-view+json": {
              "model_id": "ce6ba2a5ff624cb4b27cf13aae029d33",
              "version_major": 2,
              "version_minor": 0
            },
            "text/plain": [
              "  0%|          | 0/921246 [00:00<?, ?it/s]"
            ]
          },
          "metadata": {},
          "output_type": "display_data"
        }
      ],
      "source": [
        "WINDOW_GIVEN = 89\n",
        "WINDOW_SIZE = 90\n",
        "\n",
        "\n",
        "\n",
        "def prepare(timestamps, df, stride = 1, attacks = None):\n",
        "  ''' 89 개씩 자르는 전처리 '''\n",
        "  X = []\n",
        "  Y = []\n",
        "  att = []\n",
        "  \n",
        "  ts = np.array(timestamps)\n",
        "  tag_values = np.array(df, dtype=np.float32)\n",
        "  valid_idxs = []\n",
        "\n",
        "  ''' valid 한것만 전처리 '''\n",
        "  for L in trange(len(ts) - WINDOW_GIVEN):\n",
        "    R = L + WINDOW_GIVEN\n",
        "    if dateutil.parser.parse(ts[R]) - dateutil.parser.parse(ts[L]) == timedelta(seconds = WINDOW_SIZE - 1):\n",
        "      valid_idxs.append(L)\n",
        "\n",
        "  ''' stride '''\n",
        "  stride_idx = np.array(valid_idxs, dtype = np.int32)[::stride]\n",
        "\n",
        "  ''' 시퀀스 스트라이드 1로 '''\n",
        "  for t in trange(len(valid_idxs) - WINDOW_SIZE):\n",
        "    if np.abs(valid_idxs[t] - valid_idxs[t+1]) == 1:\n",
        "      x = tag_values[valid_idxs[t]:valid_idxs[t+WINDOW_GIVEN]]\n",
        "      X.append(x)\n",
        "      y = tag_values[valid_idxs[t]+WINDOW_SIZE]\n",
        "      Y.append(y)\n",
        "      att.append(valid_idxs[WINDOW_SIZE])\n",
        "\n",
        "  stride_idxs = np.array(valid_idxs, dtype=np.int32)[::stride]\n",
        "\n",
        "  return X, Y, valid_idxs, att\n",
        "\n",
        "\n",
        "\n",
        "\n",
        "X, Y, valid_idxs, att = prepare(TRAIN_DF_RAW[TIMESTAMP_FIELD], TRAIN_DF, stride=10)"
      ]
    },
    {
      "cell_type": "code",
      "execution_count": 19,
      "metadata": {
        "colab": {
          "base_uri": "https://localhost:8080/",
          "height": 49,
          "referenced_widgets": [
            "03b3d7c16e2f4fd4934ccbe587dac147",
            "a821f095e0644e78b05d095d87d53719",
            "84766e5859bc4b4aa80e6f91b83f8eea",
            "3cf458a907bf4d1eab00c6a3ce50b3b0",
            "ade22f1ecb7640aaa7af023ab4fe1e21",
            "3a367ccad1e14ed8894fe25e54cce73f",
            "8546f4dcbd7b49a3a2099d6f09783eff",
            "594ba7d1070847f5bf6fc35f4b0b4af0",
            "568687616ff84bf8a86142013e87b57f",
            "5f78a7429d0d4d0fabb5a4c1809fc749",
            "91030591596c4ea3982d9e211aa7f574"
          ]
        },
        "id": "SR6GUmIrHzNJ",
        "outputId": "2cfe9141-4a41-410c-8af3-5f2dc94bf054"
      },
      "outputs": [
        {
          "data": {
            "application/vnd.jupyter.widget-view+json": {
              "model_id": "03b3d7c16e2f4fd4934ccbe587dac147",
              "version_major": 2,
              "version_minor": 0
            },
            "text/plain": [
              "  0%|          | 0/92125 [00:00<?, ?it/s]"
            ]
          },
          "metadata": {},
          "output_type": "display_data"
        }
      ],
      "source": [
        "stride = 10\n",
        "X = []\n",
        "Y = []\n",
        "\n",
        "ts = np.array(TRAIN_DF_RAW[TIMESTAMP_FIELD])\n",
        "tag_values = np.array(TRAIN_DF, dtype=np.float32)\n",
        "\n",
        "for t in trange(0, len(valid_idxs) - WINDOW_SIZE, stride):\n",
        "  last = valid_idxs[t + WINDOW_SIZE] # 90\n",
        "  start = valid_idxs[t] # 0\n",
        "  end = valid_idxs[t+WINDOW_GIVEN] # 89\n",
        "\n",
        "  if np.abs(valid_idxs[t] - valid_idxs[t+WINDOW_GIVEN]) == 89:\n",
        "    x = tag_values[start:end]\n",
        "    X.append(x)\n",
        "    y = tag_values[last]\n",
        "    Y.append(y)"
      ]
    },
    {
      "cell_type": "code",
      "execution_count": 20,
      "metadata": {
        "colab": {
          "base_uri": "https://localhost:8080/"
        },
        "id": "z0WYYMUSfGLK",
        "outputId": "d3754834-142f-47e9-c41c-c22f8633284f"
      },
      "outputs": [
        {
          "data": {
            "text/plain": [
              "(89, 79)"
            ]
          },
          "execution_count": 20,
          "metadata": {},
          "output_type": "execute_result"
        }
      ],
      "source": [
        "X1 = np.array(X)\n",
        "X1[1].shape"
      ]
    },
    {
      "cell_type": "code",
      "execution_count": 21,
      "metadata": {
        "colab": {
          "base_uri": "https://localhost:8080/",
          "height": 65,
          "referenced_widgets": [
            "4003b3ba251e4de3b4ed2584eb6f0b91",
            "1a609a81f5fb41d29289f4b335e2eb63",
            "2817ed9b8f23437e9df504fc5865a19b",
            "a625a7e98ba849898c7cd0045af90bc7",
            "83710bed10f84e049a3d1fffaad942de",
            "82bce84bea97488ea0eb4ff54a782244",
            "21963578c2144be4ba6be988fde26a13",
            "2ea0dde759a740a2af7f2912f7001668",
            "5ca500d9c4804e209cd29fb691ea24e5",
            "4e7a37cc9a56487ab2611e0e3c07a469",
            "fa4ffa1858ac4d318b9c7f23a76b34f7"
          ]
        },
        "id": "1x2_ysSLH5zU",
        "outputId": "592d01d0-3425-444d-a490-7af454931934"
      },
      "outputs": [
        {
          "data": {
            "application/vnd.jupyter.widget-view+json": {
              "model_id": "4003b3ba251e4de3b4ed2584eb6f0b91",
              "version_major": 2,
              "version_minor": 0
            },
            "text/plain": [
              "  0%|          | 0/92107 [00:00<?, ?it/s]"
            ]
          },
          "metadata": {},
          "output_type": "display_data"
        },
        {
          "name": "stdout",
          "output_type": "stream",
          "text": [
            "0\n"
          ]
        }
      ],
      "source": [
        "X1 = np.array(X)\n",
        "for i in trange(0, 92107):\n",
        "  if X1[i].shape[0] !=  88:\n",
        "    print(i)\n",
        "    break\n",
        "  elif X1[i].shape[1] != 79:\n",
        "    print(i)\n",
        "    break"
      ]
    },
    {
      "cell_type": "code",
      "execution_count": 22,
      "metadata": {
        "colab": {
          "base_uri": "https://localhost:8080/"
        },
        "id": "DwW1Wrnsj723",
        "outputId": "d320e85f-33be-441a-ed7e-0c807c1e5fd6"
      },
      "outputs": [
        {
          "data": {
            "text/plain": [
              "(92107, 89, 79)"
            ]
          },
          "execution_count": 22,
          "metadata": {},
          "output_type": "execute_result"
        }
      ],
      "source": [
        "X1.shape"
      ]
    },
    {
      "cell_type": "code",
      "execution_count": 23,
      "metadata": {
        "colab": {
          "base_uri": "https://localhost:8080/"
        },
        "id": "8EqKbX0SkeEQ",
        "outputId": "a050cb0c-f30b-4168-8876-37bfab4ecda3"
      },
      "outputs": [
        {
          "data": {
            "text/plain": [
              "(1, 92107, 79)"
            ]
          },
          "execution_count": 23,
          "metadata": {},
          "output_type": "execute_result"
        }
      ],
      "source": [
        "Y1 = np.array([Y])\n",
        "Y1.shape"
      ]
    },
    {
      "cell_type": "code",
      "execution_count": 24,
      "metadata": {
        "colab": {
          "base_uri": "https://localhost:8080/"
        },
        "id": "SJueVaiEkd92",
        "outputId": "d4d31244-c2fb-40d0-d1c7-aee9d4db73ed"
      },
      "outputs": [
        {
          "data": {
            "text/plain": [
              "(92107, 79)"
            ]
          },
          "execution_count": 24,
          "metadata": {},
          "output_type": "execute_result"
        }
      ],
      "source": [
        "Y1[0].shape"
      ]
    },
    {
      "cell_type": "markdown",
      "metadata": {
        "id": "CPQeKC3JkJ5g"
      },
      "source": [
        "# 모델"
      ]
    },
    {
      "cell_type": "code",
      "execution_count": null,
      "metadata": {
        "id": "YpxUM3Fz4kKP"
      },
      "outputs": [],
      "source": [
        "# from tensorflow.python.client import device_lib\n",
        "\n",
        "# print(device_lib.list_local_devices())"
      ]
    },
    {
      "cell_type": "code",
      "execution_count": 36,
      "metadata": {
        "colab": {
          "base_uri": "https://localhost:8080/"
        },
        "id": "wtND3lnG5Ork",
        "outputId": "bffc0f4a-06df-4504-ad96-a3877b5e2268"
      },
      "outputs": [
        {
          "data": {
            "text/plain": [
              "(92107, 89, 79)"
            ]
          },
          "execution_count": 36,
          "metadata": {},
          "output_type": "execute_result"
        }
      ],
      "source": [
        "X1.shape"
      ]
    },
    {
      "cell_type": "code",
      "execution_count": 37,
      "metadata": {
        "colab": {
          "base_uri": "https://localhost:8080/"
        },
        "id": "EE_uYCcF6JEE",
        "outputId": "d96bddb3-9f4c-4559-bedc-c89c51f989c4"
      },
      "outputs": [
        {
          "data": {
            "text/plain": [
              "(1, 92107, 79)"
            ]
          },
          "execution_count": 37,
          "metadata": {},
          "output_type": "execute_result"
        }
      ],
      "source": [
        "Y1.shape"
      ]
    },
    {
      "cell_type": "code",
      "execution_count": null,
      "metadata": {
        "colab": {
          "base_uri": "https://localhost:8080/",
          "height": 33
        },
        "id": "dPV9uakOs3Da",
        "outputId": "fdf99b79-428f-4458-d02f-b3ea17d173af"
      },
      "outputs": [
        {
          "data": {
            "text/plain": [
              "(89, 79)"
            ]
          },
          "execution_count": 27,
          "metadata": {
            "tags": []
          },
          "output_type": "execute_result"
        }
      ],
      "source": [
        "X1.shape[1:]"
      ]
    },
    {
      "cell_type": "code",
      "execution_count": 38,
      "metadata": {
        "id": "5u0y_5E0Bmom"
      },
      "outputs": [],
      "source": [
        "from tensorflow import keras\n",
        "\n",
        "input_ = tf.keras.Input(shape = (89,79))\n",
        "rnn = keras.layers.Bidirectional(keras.layers.LSTM(100, return_state=False, return_sequences=False))\n",
        "x = rnn(input_)\n",
        "# output = keras.layers.Dense(79, activation = 'relu')(x)\n",
        "output = Dense(79, activation = 'relu')(x)\n",
        "\n",
        "model = keras.Model(input_, outputs = output)\n",
        "\n",
        "model.compile(\n",
        "    loss = 'MSE',\n",
        "    optimizer = 'adam'\n",
        ")"
      ]
    },
    {
      "cell_type": "code",
      "execution_count": 39,
      "metadata": {
        "colab": {
          "base_uri": "https://localhost:8080/"
        },
        "id": "c3domE1mnxlc",
        "outputId": "4123cc53-d6fb-4e07-facc-8f31c4c76f02"
      },
      "outputs": [
        {
          "name": "stdout",
          "output_type": "stream",
          "text": [
            "Training model...\n",
            "Epoch 1/100\n",
            "180/180 [==============================] - 20s 83ms/step - loss: 0.0222\n",
            "Epoch 2/100\n",
            "180/180 [==============================] - 15s 85ms/step - loss: 0.0087\n",
            "Epoch 3/100\n",
            "180/180 [==============================] - 16s 91ms/step - loss: 0.0080\n",
            "Epoch 4/100\n",
            "180/180 [==============================] - 16s 88ms/step - loss: 0.0076\n",
            "Epoch 5/100\n",
            "180/180 [==============================] - 15s 83ms/step - loss: 0.0074\n",
            "Epoch 6/100\n",
            "180/180 [==============================] - 15s 83ms/step - loss: 0.0072\n",
            "Epoch 7/100\n",
            "180/180 [==============================] - 15s 84ms/step - loss: 0.0072\n",
            "Epoch 8/100\n",
            "180/180 [==============================] - 15s 83ms/step - loss: 0.0071\n",
            "Epoch 9/100\n",
            "180/180 [==============================] - 15s 84ms/step - loss: 0.0071\n",
            "Epoch 10/100\n",
            "180/180 [==============================] - 15s 84ms/step - loss: 0.0070\n",
            "Epoch 11/100\n",
            "180/180 [==============================] - 15s 84ms/step - loss: 0.0070\n",
            "Epoch 12/100\n",
            "180/180 [==============================] - 15s 84ms/step - loss: 0.0070\n",
            "Epoch 13/100\n",
            "180/180 [==============================] - 15s 83ms/step - loss: 0.0070\n",
            "Epoch 14/100\n",
            "180/180 [==============================] - 15s 83ms/step - loss: 0.0069\n",
            "Epoch 15/100\n",
            "180/180 [==============================] - 15s 83ms/step - loss: 0.0069\n",
            "Epoch 16/100\n",
            "180/180 [==============================] - 15s 84ms/step - loss: 0.0069\n",
            "Epoch 17/100\n",
            "180/180 [==============================] - 15s 83ms/step - loss: 0.0069\n",
            "Epoch 18/100\n",
            "180/180 [==============================] - 15s 84ms/step - loss: 0.0069\n",
            "Epoch 19/100\n",
            "180/180 [==============================] - 15s 83ms/step - loss: 0.0069\n",
            "Epoch 20/100\n",
            "180/180 [==============================] - 15s 83ms/step - loss: 0.0069\n",
            "Epoch 21/100\n",
            "180/180 [==============================] - 15s 83ms/step - loss: 0.0069\n",
            "Epoch 22/100\n",
            "180/180 [==============================] - 15s 83ms/step - loss: 0.0069\n",
            "Epoch 23/100\n",
            "180/180 [==============================] - 15s 84ms/step - loss: 0.0068\n",
            "Epoch 24/100\n",
            "180/180 [==============================] - 15s 83ms/step - loss: 0.0068\n",
            "Epoch 25/100\n",
            "180/180 [==============================] - 15s 83ms/step - loss: 0.0068\n",
            "Epoch 26/100\n",
            "180/180 [==============================] - 15s 83ms/step - loss: 0.0029\n",
            "Epoch 27/100\n",
            "180/180 [==============================] - 15s 83ms/step - loss: 0.0027\n",
            "Epoch 28/100\n",
            "180/180 [==============================] - 15s 83ms/step - loss: 0.0026\n",
            "Epoch 29/100\n",
            "180/180 [==============================] - 15s 83ms/step - loss: 0.0026\n",
            "Epoch 30/100\n",
            "180/180 [==============================] - 15s 83ms/step - loss: 0.0026\n",
            "Epoch 31/100\n",
            "180/180 [==============================] - 15s 84ms/step - loss: 0.0026\n",
            "Epoch 32/100\n",
            "180/180 [==============================] - 15s 83ms/step - loss: 0.0026\n",
            "Epoch 33/100\n",
            "180/180 [==============================] - 15s 83ms/step - loss: 0.0026\n",
            "Epoch 34/100\n",
            "180/180 [==============================] - 15s 83ms/step - loss: 0.0026\n",
            "Epoch 35/100\n",
            "180/180 [==============================] - 15s 83ms/step - loss: 0.0026\n",
            "Epoch 36/100\n",
            "180/180 [==============================] - 15s 83ms/step - loss: 0.0017\n",
            "Epoch 37/100\n",
            "180/180 [==============================] - 15s 83ms/step - loss: 5.6928e-04\n",
            "Epoch 38/100\n",
            "180/180 [==============================] - 15s 84ms/step - loss: 5.6683e-04\n",
            "Epoch 39/100\n",
            "180/180 [==============================] - 15s 83ms/step - loss: 5.6081e-04\n",
            "Epoch 40/100\n",
            "180/180 [==============================] - 15s 84ms/step - loss: 5.5280e-04\n",
            "Epoch 41/100\n",
            "180/180 [==============================] - 15s 83ms/step - loss: 5.4811e-04\n",
            "Epoch 42/100\n",
            "180/180 [==============================] - 15s 83ms/step - loss: 5.4581e-04\n",
            "Epoch 43/100\n",
            "180/180 [==============================] - 15s 83ms/step - loss: 5.4108e-04\n",
            "Epoch 44/100\n",
            "180/180 [==============================] - 15s 83ms/step - loss: 5.3834e-04\n",
            "Epoch 45/100\n",
            "180/180 [==============================] - 15s 83ms/step - loss: 5.3531e-04\n",
            "Epoch 46/100\n",
            "180/180 [==============================] - 15s 83ms/step - loss: 5.3054e-04\n",
            "Epoch 47/100\n",
            "180/180 [==============================] - 15s 83ms/step - loss: 5.2623e-04\n",
            "Epoch 48/100\n",
            "180/180 [==============================] - 15s 83ms/step - loss: 5.2099e-04\n",
            "Epoch 49/100\n",
            "180/180 [==============================] - 15s 83ms/step - loss: 5.2163e-04\n",
            "Epoch 50/100\n",
            "180/180 [==============================] - 15s 83ms/step - loss: 5.1606e-04\n",
            "Epoch 51/100\n",
            "180/180 [==============================] - 15s 83ms/step - loss: 5.1259e-04\n",
            "Epoch 52/100\n",
            "180/180 [==============================] - 15s 83ms/step - loss: 5.1105e-04\n",
            "Epoch 53/100\n",
            "180/180 [==============================] - 15s 84ms/step - loss: 5.0561e-04\n",
            "Epoch 54/100\n",
            "180/180 [==============================] - 15s 83ms/step - loss: 5.0413e-04\n",
            "Epoch 55/100\n",
            "180/180 [==============================] - 15s 83ms/step - loss: 5.0514e-04\n",
            "Epoch 56/100\n",
            "180/180 [==============================] - 15s 83ms/step - loss: 4.9896e-04\n",
            "Epoch 57/100\n",
            "180/180 [==============================] - 15s 84ms/step - loss: 4.9811e-04\n",
            "Epoch 58/100\n",
            "180/180 [==============================] - 15s 84ms/step - loss: 4.9546e-04\n",
            "Epoch 59/100\n",
            "180/180 [==============================] - 15s 83ms/step - loss: 4.9558e-04\n",
            "Epoch 60/100\n",
            "180/180 [==============================] - 15s 83ms/step - loss: 4.9232e-04\n",
            "Epoch 61/100\n",
            "180/180 [==============================] - 15s 83ms/step - loss: 4.9061e-04\n",
            "Epoch 62/100\n",
            "180/180 [==============================] - 15s 83ms/step - loss: 4.8557e-04\n",
            "Epoch 63/100\n",
            "180/180 [==============================] - 15s 83ms/step - loss: 4.8540e-04\n",
            "Epoch 64/100\n",
            "180/180 [==============================] - 15s 83ms/step - loss: 4.8445e-04\n",
            "Epoch 65/100\n",
            "180/180 [==============================] - 15s 83ms/step - loss: 4.8222e-04\n",
            "Epoch 66/100\n",
            "180/180 [==============================] - 15s 84ms/step - loss: 4.8319e-04\n",
            "Epoch 67/100\n",
            "180/180 [==============================] - 15s 84ms/step - loss: 4.7973e-04\n",
            "Epoch 68/100\n",
            "180/180 [==============================] - 15s 83ms/step - loss: 4.7826e-04\n",
            "Epoch 69/100\n",
            "180/180 [==============================] - 15s 83ms/step - loss: 4.7853e-04\n",
            "Epoch 70/100\n",
            "180/180 [==============================] - 15s 83ms/step - loss: 4.7703e-04\n",
            "Epoch 71/100\n",
            "180/180 [==============================] - 15s 83ms/step - loss: 4.7622e-04\n",
            "Epoch 72/100\n",
            "180/180 [==============================] - 15s 83ms/step - loss: 4.7263e-04\n",
            "Epoch 73/100\n",
            "180/180 [==============================] - 15s 83ms/step - loss: 4.7111e-04\n",
            "Epoch 74/100\n",
            "180/180 [==============================] - 15s 83ms/step - loss: 4.7025e-04\n",
            "Epoch 75/100\n",
            "180/180 [==============================] - 15s 84ms/step - loss: 4.6964e-04\n",
            "Epoch 76/100\n",
            "180/180 [==============================] - 15s 83ms/step - loss: 4.6967e-04\n",
            "Epoch 77/100\n",
            "180/180 [==============================] - 15s 83ms/step - loss: 4.6666e-04\n",
            "Epoch 78/100\n",
            "180/180 [==============================] - 15s 83ms/step - loss: 4.6625e-04\n",
            "Epoch 79/100\n",
            "180/180 [==============================] - 15s 82ms/step - loss: 4.6390e-04\n",
            "Epoch 80/100\n",
            "180/180 [==============================] - 15s 83ms/step - loss: 4.6445e-04\n",
            "Epoch 81/100\n",
            "180/180 [==============================] - 15s 83ms/step - loss: 4.6524e-04\n",
            "Epoch 82/100\n",
            "180/180 [==============================] - 15s 83ms/step - loss: 4.6337e-04\n",
            "Epoch 83/100\n",
            "180/180 [==============================] - 15s 82ms/step - loss: 4.6104e-04\n",
            "Epoch 84/100\n",
            "180/180 [==============================] - 15s 83ms/step - loss: 4.6214e-04\n",
            "Epoch 85/100\n",
            "180/180 [==============================] - 15s 83ms/step - loss: 4.6143e-04\n",
            "Epoch 86/100\n",
            "180/180 [==============================] - 15s 83ms/step - loss: 4.5898e-04\n",
            "Epoch 87/100\n",
            "180/180 [==============================] - 15s 83ms/step - loss: 4.5815e-04\n",
            "Epoch 88/100\n",
            "180/180 [==============================] - 15s 83ms/step - loss: 4.5701e-04\n",
            "Epoch 89/100\n",
            "180/180 [==============================] - 15s 83ms/step - loss: 4.5630e-04\n",
            "Epoch 90/100\n",
            "180/180 [==============================] - 15s 83ms/step - loss: 4.5719e-04\n",
            "Epoch 91/100\n",
            "180/180 [==============================] - 15s 83ms/step - loss: 4.5639e-04\n",
            "Epoch 92/100\n",
            "180/180 [==============================] - 15s 83ms/step - loss: 4.5125e-04\n",
            "Epoch 93/100\n",
            "180/180 [==============================] - 15s 83ms/step - loss: 4.5373e-04\n",
            "Epoch 94/100\n",
            "180/180 [==============================] - 15s 83ms/step - loss: 4.5152e-04\n",
            "Epoch 95/100\n",
            "180/180 [==============================] - 15s 83ms/step - loss: 4.5009e-04\n",
            "Epoch 96/100\n",
            "180/180 [==============================] - 15s 82ms/step - loss: 4.5233e-04\n",
            "Epoch 97/100\n",
            "180/180 [==============================] - 15s 83ms/step - loss: 4.5051e-04\n",
            "Epoch 98/100\n",
            "180/180 [==============================] - 15s 83ms/step - loss: 4.5036e-04\n",
            "Epoch 99/100\n",
            "180/180 [==============================] - 15s 83ms/step - loss: 4.4780e-04\n",
            "Epoch 100/100\n",
            "180/180 [==============================] - 15s 82ms/step - loss: 4.4850e-04\n"
          ]
        }
      ],
      "source": [
        "BATCH_SIZE = 512\n",
        "EPOCHS = 100\n",
        "\n",
        "print('Training model...')\n",
        "r = model.fit(\n",
        "  X1,\n",
        "  Y1.reshape(92107,-1),\n",
        "  batch_size=BATCH_SIZE,\n",
        "  epochs=EPOCHS,\n",
        ")"
      ]
    },
    {
      "cell_type": "code",
      "execution_count": 25,
      "metadata": {
        "colab": {
          "base_uri": "https://localhost:8080/"
        },
        "id": "Tjtz55-c7V1V",
        "outputId": "6c68d865-3edb-4592-b85d-e4e22d8c1659"
      },
      "outputs": [
        {
          "name": "stdout",
          "output_type": "stream",
          "text": [
            "WARNING:tensorflow:SavedModel saved prior to TF 2.5 detected when loading Keras model. Please ensure that you are saving the model with model.save() or tf.keras.models.save_model(), *NOT* tf.saved_model.save(). To confirm, there should be a file named \"keras_metadata.pb\" in the SavedModel directory.\n"
          ]
        }
      ],
      "source": [
        "# 모델 저장\n",
        "!pip install -q pyyaml h5py\n",
        "\n",
        "# model.save('/gdrive/My Drive/dacon/security_detect/my_model2')\n",
        "new_model = tf.keras.models.load_model('/gdrive/My Drive/dacon/security_detect/my_model2')"
      ]
    },
    {
      "cell_type": "code",
      "execution_count": 26,
      "metadata": {
        "colab": {
          "base_uri": "https://localhost:8080/"
        },
        "id": "wentYdWy-vfZ",
        "outputId": "2eb9959e-c66c-4269-e87d-8ba889a6da90"
      },
      "outputs": [
        {
          "name": "stdout",
          "output_type": "stream",
          "text": [
            "Model: \"functional_1\"\n",
            "_________________________________________________________________\n",
            " Layer (type)                Output Shape              Param #   \n",
            "=================================================================\n",
            " input_2 (InputLayer)        [(None, 89, 79)]          0         \n",
            "                                                                 \n",
            " bidirectional (Bidirectiona  (None, 200)              144000    \n",
            " l)                                                              \n",
            "                                                                 \n",
            " dense (Dense)               (None, 79)                15879     \n",
            "                                                                 \n",
            "=================================================================\n",
            "Total params: 159,879\n",
            "Trainable params: 159,879\n",
            "Non-trainable params: 0\n",
            "_________________________________________________________________\n"
          ]
        }
      ],
      "source": [
        "new_model.summary()"
      ]
    },
    {
      "cell_type": "markdown",
      "metadata": {
        "id": "RNixex25-9EB"
      },
      "source": [
        "# 학습된 모델을 이용한 탐지"
      ]
    },
    {
      "cell_type": "code",
      "execution_count": 27,
      "metadata": {
        "id": "SoZXw9kJ--8Y"
      },
      "outputs": [],
      "source": [
        "''' validation concat '''\n",
        "VALIDATION_DF_RAW = dataframe_from_csvs(VALIDATION_DATASET)"
      ]
    },
    {
      "cell_type": "code",
      "execution_count": 28,
      "metadata": {
        "id": "sbTK3uvU-_Xt"
      },
      "outputs": [],
      "source": [
        "''' normalization '''\n",
        "VALIDATION_DF = normalize(VALIDATION_DF_RAW[VALID_COLUMNS_IN_TRAIN_DATASET])"
      ]
    },
    {
      "cell_type": "code",
      "execution_count": 29,
      "metadata": {
        "colab": {
          "base_uri": "https://localhost:8080/"
        },
        "id": "onjKaGsi_B0m",
        "outputId": "da3fab54-417d-4134-dc68-6f958b8e24e1"
      },
      "outputs": [
        {
          "data": {
            "text/plain": [
              "(True, True, False)"
            ]
          },
          "execution_count": 29,
          "metadata": {},
          "output_type": "execute_result"
        }
      ],
      "source": [
        "boundary_check(VALIDATION_DF)\n",
        "# 함수안에 최대 최소가 있는게 아니라, 글로벌 변수로 최대 최소를 할당했었다.\n",
        "# np.any(x > 1.0), np.any(x < 0), np.any(np.isnan(x))\n",
        "# 1보다 큰게 있고, 0보다 작은게 있고, nan은 없다.\n",
        "# 공격 데이터셋에서는 확실히 정상 데이터의 최솟값과 최댓값을 벗어나는 값이 나타나고 있습니다."
      ]
    },
    {
      "cell_type": "code",
      "execution_count": 30,
      "metadata": {
        "id": "jOf9hkRIt-xO"
      },
      "outputs": [],
      "source": [
        "WINDOW_GIVEN = 89\n",
        "WINDOW_SIZE = 90\n",
        "\n",
        "\n",
        "def test_prepare(timestamps, df, raw_df, stride = 1, attacks=None):\n",
        "  ''' 89 개씩 자르는 전처리 '''\n",
        "  X = []\n",
        "  Y = []\n",
        "  ts_list = []\n",
        "  att_list = []\n",
        "  \n",
        "  \n",
        "  # ts = np.array(TRAIN_DF_RAW[TIMESTAMP_FIELD])\n",
        "  # tag_values = np.array(TRAIN_DF, dtype=np.float32)\n",
        "  ts = np.array(timestamps)\n",
        "  tag_values = np.array(df, dtype=np.float32)\n",
        "  valid_idxs = []\n",
        "\n",
        "\n",
        "  ''' 시퀀스 스트라이드 1로 '''\n",
        "  for t in trange(len(ts) - WINDOW_SIZE):\n",
        "      x = tag_values[t:t+WINDOW_GIVEN]\n",
        "      X.append(x)\n",
        "      y = tag_values[t+WINDOW_SIZE]\n",
        "      Y.append(y)\n",
        "\n",
        "      ts_list.append(ts[t+WINDOW_SIZE])\n",
        "      if attacks is not None:\n",
        "        att_list.append(raw_df['attack'][t+WINDOW_SIZE])\n",
        "\n",
        "  stride_idxs = np.array(valid_idxs, dtype=np.int32)[::stride]\n",
        "\n",
        "  return np.array(X), np.array(Y), np.array(valid_idxs), np.array(att_list), np.array(ts_list)\n"
      ]
    },
    {
      "cell_type": "code",
      "execution_count": 31,
      "metadata": {
        "colab": {
          "base_uri": "https://localhost:8080/",
          "height": 65,
          "referenced_widgets": [
            "9dcaeef046464d938c1ec1710e8c5881",
            "5af2f1cad93c4598bb427c6b55cf6cf2",
            "9b1f7fd8c7cb49a792e48e14ee75f103",
            "8faf82748fdc4edd8a9cb178ad5fc43d",
            "b04d506e42f240e3969a6596a2d139a7",
            "06b037ab82ea4ad6a74c755eee7f3b42",
            "acf9200ca58244d1bf97ec412f41dd68",
            "52b902f069b14a50ab60bd974a0359c8",
            "4fa9de02a0734e74b27608ebdeaf642f",
            "b785cadffc9048e2a2c99b94d4dd3d07",
            "1588cb5158414b73a0439c98611fde51"
          ]
        },
        "id": "3uWvJbL8_CBv",
        "outputId": "dc17b5b5-6bea-4902-a18b-a21fb675c7ec"
      },
      "outputs": [
        {
          "data": {
            "application/vnd.jupyter.widget-view+json": {
              "model_id": "9dcaeef046464d938c1ec1710e8c5881",
              "version_major": 2,
              "version_minor": 0
            },
            "text/plain": [
              "  0%|          | 0/43111 [00:00<?, ?it/s]"
            ]
          },
          "metadata": {},
          "output_type": "display_data"
        },
        {
          "name": "stdout",
          "output_type": "stream",
          "text": [
            "43111 43111\n"
          ]
        }
      ],
      "source": [
        "valid_X, valid_Y, valid_idxs, attack, ts = test_prepare(VALIDATION_DF_RAW[TIMESTAMP_FIELD], VALIDATION_DF, VALIDATION_DF_RAW,stride=1, attacks = VALIDATION_DF_RAW['attack'])\n",
        "\n",
        "print(len(valid_X), len(ts))"
      ]
    },
    {
      "cell_type": "code",
      "execution_count": 32,
      "metadata": {
        "colab": {
          "base_uri": "https://localhost:8080/"
        },
        "id": "-J2Gd7n8uOVN",
        "outputId": "9f5c7aaa-0396-4531-f375-7f1f1607f3a9"
      },
      "outputs": [
        {
          "data": {
            "text/plain": [
              "array(['2020-07-07 15:01:30', '2020-07-07 15:01:31',\n",
              "       '2020-07-07 15:01:32', ..., '2020-07-08 02:59:58',\n",
              "       '2020-07-08 02:59:59', '2020-07-08 03:00:00'], dtype='<U19')"
            ]
          },
          "execution_count": 32,
          "metadata": {},
          "output_type": "execute_result"
        }
      ],
      "source": [
        "ts"
      ]
    },
    {
      "cell_type": "code",
      "execution_count": 33,
      "metadata": {
        "id": "QK1HjQZ-McjV"
      },
      "outputs": [],
      "source": [
        "# def inference(X, Y, model, batch_size = 512):\n",
        "#   ts, dist, att = [],[],[]\n",
        "\n",
        "#   given = X\n",
        "#   answer = Y\n",
        "#   guess = model.predict(given)\n",
        "#   ts.append(np.array)"
      ]
    },
    {
      "cell_type": "code",
      "execution_count": null,
      "metadata": {
        "id": "vOljqtnSozIv"
      },
      "outputs": [],
      "source": [
        "# pre_value = new_model.predict(valid_X)\n",
        "# pre_value"
      ]
    },
    {
      "cell_type": "code",
      "execution_count": null,
      "metadata": {
        "id": "VSPVEUNdo64s"
      },
      "outputs": [],
      "source": [
        "# abs(pre_value - valid_Y).shape"
      ]
    },
    {
      "cell_type": "code",
      "execution_count": null,
      "metadata": {
        "id": "yNShVMadpDKh"
      },
      "outputs": [],
      "source": [
        "# np.mean(abs(pre_value - valid_Y), axis = 1).shape"
      ]
    },
    {
      "cell_type": "code",
      "execution_count": null,
      "metadata": {
        "id": "om4im0aypWHf"
      },
      "outputs": [],
      "source": [
        "# np.mean(abs(pre_value[0]-valid_Y[0]).reshape(1,-1), axis = 1)"
      ]
    },
    {
      "cell_type": "code",
      "execution_count": 34,
      "metadata": {
        "id": "ehruaFJ4v2yc"
      },
      "outputs": [],
      "source": [
        "def evaluate(X, Y):\n",
        "  pre_value = new_model.predict(valid_X)\n",
        "  dist = np.mean(abs(pre_value - Y), axis =1)\n",
        "\n",
        "  return dist"
      ]
    },
    {
      "cell_type": "code",
      "execution_count": 35,
      "metadata": {
        "id": "xNLpZv41rwBI"
      },
      "outputs": [],
      "source": [
        "dist = evaluate(valid_X, valid_Y)"
      ]
    },
    {
      "cell_type": "code",
      "execution_count": 36,
      "metadata": {
        "colab": {
          "base_uri": "https://localhost:8080/"
        },
        "id": "rLInUYs66UQG",
        "outputId": "22584fbe-a6b5-4836-f80d-bba0a7225722"
      },
      "outputs": [
        {
          "data": {
            "text/plain": [
              "array([0.01538958, 0.01804199, 0.01613906, ..., 0.00738371, 0.00918657,\n",
              "       0.00858031], dtype=float32)"
            ]
          },
          "execution_count": 36,
          "metadata": {},
          "output_type": "execute_result"
        }
      ],
      "source": [
        "dist"
      ]
    },
    {
      "cell_type": "code",
      "execution_count": 37,
      "metadata": {
        "id": "v5GO448IsuXa"
      },
      "outputs": [],
      "source": [
        "'''결과를 눈으로 확인하기 위해 그래프를 그려보겠습니다. piece 파라미터는 그래프를 몇 개로 나누어 그릴지를 결정합니다. 세세한 결과를 보고 싶을 경우 숫자를 늘리면 됩니다.'''\n",
        "\n",
        "def check_graph(xs, att, piece=2, THRESHOLD=None):\n",
        "    l = xs.shape[0]\n",
        "    chunk = l // piece\n",
        "    fig, axs = plt.subplots(piece, figsize=(20, 4 * piece))  # plt.subplots(nrows=2, ncols=1)\n",
        "    for i in range(piece):\n",
        "        L = i * chunk\n",
        "        R = min(L + chunk, l)\n",
        "        xticks = range(L, R)\n",
        "        axs[i].plot(xticks, xs[L:R])\n",
        "        if len(xs[L:R]) > 0:\n",
        "            peak = max(xs[L:R])\n",
        "            axs[i].plot(xticks, att[L:R] * peak * 0.3)\n",
        "        if THRESHOLD!=None:\n",
        "            axs[i].axhline(y=THRESHOLD, color='r')\n",
        "    plt.show()\n"
      ]
    },
    {
      "cell_type": "code",
      "execution_count": 38,
      "metadata": {
        "colab": {
          "base_uri": "https://localhost:8080/",
          "height": 916
        },
        "id": "BKUCxiY26IKg",
        "outputId": "413238b1-6a3e-4e08-ac4c-eb86180f5b30"
      },
      "outputs": [
        {
          "data": {
            "image/png": "[encoded data removed]",
            "text/plain": [
              "<Figure size 1440x1152 with 4 Axes>"
            ]
          },
          "metadata": {
            "needs_background": "light"
          },
          "output_type": "display_data"
        }
      ],
      "source": [
        "THRESHOLD = 0.04\n",
        "check_graph(dist, attack, 4, THRESHOLD=THRESHOLD)"
      ]
    },
    {
      "cell_type": "code",
      "execution_count": 39,
      "metadata": {
        "id": "XraI7lv3tHkp"
      },
      "outputs": [],
      "source": [
        "'''위의 그래프를 보면 대략 0.04를 기준으로 설정할 수 있을 것으로 보입니다. \n",
        "여러 번의 실험을 통해 정밀하게 임계치를 선택하면 더 좋은 결과를 얻을 수 있을 것으로 예상합니다.'''\n",
        "\n",
        "def put_labels(distance, threshold):\n",
        "    xs = np.zeros_like(distance) # distance 랑 같은 shape을 갖는 zero matrix를 만듬.\n",
        "    xs[distance > threshold] = 1 # threshold 보다 높은값에 1을 부여. labeling\n",
        "    return xs"
      ]
    },
    {
      "cell_type": "code",
      "execution_count": 40,
      "metadata": {
        "colab": {
          "base_uri": "https://localhost:8080/"
        },
        "id": "5cEajSYt6Spa",
        "outputId": "4feb38a5-868e-49d1-f0f6-1c03657a4a3e"
      },
      "outputs": [
        {
          "data": {
            "text/plain": [
              "(array([0., 0., 0., ..., 0., 0., 0.], dtype=float32), (43111,))"
            ]
          },
          "execution_count": 40,
          "metadata": {},
          "output_type": "execute_result"
        }
      ],
      "source": [
        "LABELS = put_labels(dist, THRESHOLD)\n",
        "LABELS, LABELS.shape"
      ]
    },
    {
      "cell_type": "code",
      "execution_count": 41,
      "metadata": {
        "colab": {
          "base_uri": "https://localhost:8080/"
        },
        "id": "FFVJGBvctEhE",
        "outputId": "8a1277b8-57a0-4ce3-bbc8-551db3e0df42"
      },
      "outputs": [
        {
          "data": {
            "text/plain": [
              "(43111,)"
            ]
          },
          "execution_count": 41,
          "metadata": {},
          "output_type": "execute_result"
        }
      ],
      "source": [
        "dist.shape"
      ]
    },
    {
      "cell_type": "markdown",
      "metadata": {
        "id": "KamQVQki-veU"
      },
      "source": [
        "# 정답지(ATTACK_LABELS)도 동일하게 추출합니다. 검증 데이터셋에 공격 여부를 나타내는 필드에는 정상을 0으로 공격을 1로 표기하고 있습니다. 위에 정의한 put_labels 함수를 이용해서 0.5를 기준으로 같은 방식으로 TaPR을 위한 label을 붙여줍니다."
      ]
    },
    {
      "cell_type": "code",
      "execution_count": 42,
      "metadata": {
        "colab": {
          "base_uri": "https://localhost:8080/"
        },
        "id": "IzWOAcIT-iu4",
        "outputId": "3ae778cd-46d2-4f4d-b582-146648cdab72"
      },
      "outputs": [
        {
          "data": {
            "text/plain": [
              "(array([0, 0, 0, ..., 0, 0, 0]), (43201,))"
            ]
          },
          "execution_count": 42,
          "metadata": {},
          "output_type": "execute_result"
        }
      ],
      "source": [
        "ATTACK_LABELS = put_labels(np.array(VALIDATION_DF_RAW[ATTACK_FIELD]), threshold=0.5)\n",
        "ATTACK_LABELS, ATTACK_LABELS.shape"
      ]
    },
    {
      "cell_type": "code",
      "execution_count": 43,
      "metadata": {
        "id": "cfV7-7_0-yFA"
      },
      "outputs": [],
      "source": [
        "def fill_blank(check_ts, labels, total_ts): # check_ts : 타겟들.. 89번째 슬라이스부터 쭉: total_ts보다 88개 적음. //  label : attack labels which has 0 or 1. // total_ts\n",
        "    def ts_generator():\n",
        "      \n",
        "        ''' return total_ts  as time type'''\n",
        "      \n",
        "        for t in total_ts:\n",
        "            yield dateutil.parser.parse(t)\n",
        "\n",
        "    def label_generator():\n",
        "      \n",
        "        ''' return check_ts with labels '''\n",
        "\n",
        "        for t, label in zip(check_ts, labels): # check_ts : 시간 //  label : attack labels which has 0 or 1.\n",
        "            yield dateutil.parser.parse(t), label\n",
        "\n",
        "\n",
        "    g_ts = ts_generator() # yield로 생성되어서 필요할때 부르면됨. yield메모리에 저장됨.\n",
        "    g_label = label_generator()\n",
        "    final_labels = []\n",
        "\n",
        "    try:\n",
        "        current = next(g_ts) # yield의 다음 값을 호출 // total_ts를 호출\n",
        "        ts_label, label = next(g_label) # check_ts, label 호출\n",
        "        while True:\n",
        "            if current > ts_label:\n",
        "                ts_label, label = next(g_label)\n",
        "                continue\n",
        "            elif current < ts_label:\n",
        "                final_labels.append(0)\n",
        "                current = next(g_ts)\n",
        "                continue\n",
        "            final_labels.append(label)\n",
        "            current = next(g_ts)\n",
        "            ts_label, label = next(g_label)\n",
        "    except StopIteration:\n",
        "        return np.array(final_labels, dtype=np.int8)"
      ]
    },
    {
      "cell_type": "code",
      "execution_count": 44,
      "metadata": {
        "colab": {
          "base_uri": "https://localhost:8080/"
        },
        "id": "exGBbmpj-4kX",
        "outputId": "9f42983f-e4b9-4dcf-8219-7591c7d3e0bf"
      },
      "outputs": [
        {
          "name": "stdout",
          "output_type": "stream",
          "text": [
            "CPU times: user 14.4 s, sys: 70 ms, total: 14.4 s\n",
            "Wall time: 16.7 s\n"
          ]
        }
      ],
      "source": [
        "%%time\n",
        "FINAL_LABELS = fill_blank(ts, LABELS, np.array(VALIDATION_DF_RAW[TIMESTAMP_FIELD]))\n",
        "FINAL_LABELS.shape"
      ]
    },
    {
      "cell_type": "code",
      "execution_count": 45,
      "metadata": {
        "colab": {
          "base_uri": "https://localhost:8080/"
        },
        "id": "4RU6Mwpe-6Fi",
        "outputId": "31ed26e8-f126-4998-8be8-0d1cfde779a7"
      },
      "outputs": [
        {
          "data": {
            "text/plain": [
              "(43201,)"
            ]
          },
          "execution_count": 45,
          "metadata": {},
          "output_type": "execute_result"
        }
      ],
      "source": [
        "FINAL_LABELS.shape"
      ]
    },
    {
      "cell_type": "code",
      "execution_count": 46,
      "metadata": {
        "colab": {
          "base_uri": "https://localhost:8080/"
        },
        "id": "mb0Rmfjd_DrS",
        "outputId": "4d266935-3e68-448b-e815-0ccdd5d0cb97"
      },
      "outputs": [
        {
          "name": "stdout",
          "output_type": "stream",
          "text": [
            "F1: 0.794 (TaP: 0.942, TaR: 0.687)\n",
            "# of detected anomalies: 4\n",
            "Detected anomalies: ['1', '3', '4', '5']\n"
          ]
        }
      ],
      "source": [
        "TaPR = etapr.evaluate(anomalies=ATTACK_LABELS, predictions=FINAL_LABELS)\n",
        "print(f\"F1: {TaPR['f1']:.3f} (TaP: {TaPR['TaP']:.3f}, TaR: {TaPR['TaR']:.3f})\")\n",
        "print(f\"# of detected anomalies: {len(TaPR['Detected_Anomalies'])}\")\n",
        "print(f\"Detected anomalies: {TaPR['Detected_Anomalies']}\")"
      ]
    },
    {
      "cell_type": "markdown",
      "metadata": {
        "id": "axZ_S6HiNqH6"
      },
      "source": [
        "# TEST로 평가하기\n",
        "\n",
        "\n",
        "---\n",
        "\n",
        "\n",
        "\n",
        "---\n",
        "\n"
      ]
    },
    {
      "cell_type": "code",
      "execution_count": 47,
      "metadata": {
        "id": "TNCVKeiMNohN"
      },
      "outputs": [],
      "source": [
        "TEST_DF_RAW = dataframe_from_csvs(TEST_DATASET)"
      ]
    },
    {
      "cell_type": "code",
      "execution_count": 48,
      "metadata": {
        "id": "KWKXX-OrNok4"
      },
      "outputs": [],
      "source": [
        "TEST_DF = normalize(TEST_DF_RAW[VALID_COLUMNS_IN_TRAIN_DATASET]).ewm(alpha=0.9).mean()"
      ]
    },
    {
      "cell_type": "code",
      "execution_count": 49,
      "metadata": {
        "id": "3Veuz6heQJRS"
      },
      "outputs": [],
      "source": [
        "WINDOW_GIVEN = 89\n",
        "WINDOW_SIZE = 90\n",
        "\n",
        "\n",
        "\n",
        "def test_(timestamps, df, raw_df, model, stride = 1, attacks=None):\n",
        "  ''' 89 개씩 자르는 전처리 '''\n",
        "  X = []\n",
        "  Y = []\n",
        "  ts_list = []\n",
        "  att_list = []\n",
        "  final = []\n",
        "  \n",
        "  # ts = np.array(TRAIN_DF_RAW[TIMESTAMP_FIELD])\n",
        "  # tag_values = np.array(TRAIN_DF, dtype=np.float32)\n",
        "  ts = np.array(timestamps)\n",
        "  tag_values = np.array(df, dtype=np.float32)\n",
        "  valid_idxs = []\n",
        "  Y = []\n",
        "\n",
        "  ''' 시퀀스 스트라이드 1로 '''\n",
        "  for t in trange(len(ts) - WINDOW_SIZE):\n",
        "      x = tag_values[t:t+WINDOW_GIVEN].reshape(1,89,79)\n",
        "      y = tag_values[t+WINDOW_SIZE]\n",
        "\n",
        "      pre_value = model.predict(x)\n",
        "      final.append(np.mean(abs(pre_value-y).reshape(1,-1), axis = 1))\n",
        "\n",
        "      ts_list.append(ts[t+WINDOW_SIZE])\n",
        "      if attacks is not None:\n",
        "        att_list.append(raw_df['attack'][t+WINDOW_SIZE])\n",
        "\n",
        "  stride_idxs = np.array(valid_idxs, dtype=np.int32)[::stride]\n",
        "\n",
        "  return np.array(X), np.array(Y), np.array(valid_idxs), np.array(att_list), np.array(ts_list), np.array(final)\n",
        "\n"
      ]
    },
    {
      "cell_type": "code",
      "execution_count": 50,
      "metadata": {
        "id": "5d1eyd74QRlA"
      },
      "outputs": [],
      "source": [
        "# valid_X, valid_Y, valid_idxs, attack, ts, final = test_(\n",
        "#     TEST_DF_RAW[TIMESTAMP_FIELD], TEST_DF, TEST_DF_RAW, model = new_model\n",
        "# )"
      ]
    },
    {
      "cell_type": "code",
      "execution_count": 51,
      "metadata": {
        "id": "REV6DVKENpKD"
      },
      "outputs": [],
      "source": [
        "# pd.DataFrame(final).to_csv('/gdrive/My Drive/dacon/security_detect/final.csv')"
      ]
    },
    {
      "cell_type": "code",
      "execution_count": 52,
      "metadata": {
        "id": "WpqUWSKdNpS3"
      },
      "outputs": [],
      "source": [
        "dist1 = pd.read_csv('/gdrive/My Drive/dacon/security_detect/final.csv')\n",
        "dist1 = dist1['0']"
      ]
    },
    {
      "cell_type": "code",
      "execution_count": 53,
      "metadata": {
        "colab": {
          "base_uri": "https://localhost:8080/",
          "height": 482
        },
        "id": "ZiEVYm2RNpdN",
        "outputId": "8c8a2b16-4594-43f0-9b21-51b36ce245f4"
      },
      "outputs": [
        {
          "data": {
            "image/png": "[encoded data removed]",
            "text/plain": [
              "<Figure size 1440x576 with 2 Axes>"
            ]
          },
          "metadata": {
            "needs_background": "light"
          },
          "output_type": "display_data"
        }
      ],
      "source": [
        "'''결과를 눈으로 확인하기 위해 그래프를 그려보겠습니다. piece 파라미터는 그래프를 몇 개로 나누어 그릴지를 결정합니다. 세세한 결과를 보고 싶을 경우 숫자를 늘리면 됩니다.'''\n",
        "\n",
        "def check_graph(xs, att, piece=2, THRESHOLD=None):\n",
        "    l = xs.shape[0]\n",
        "    chunk = l // piece\n",
        "    fig, axs = plt.subplots(piece, figsize=(20, 4 * piece))  # plt.subplots(nrows=2, ncols=1)\n",
        "    for i in range(piece):\n",
        "        L = i * chunk\n",
        "        R = min(L + chunk, l)\n",
        "        xticks = range(L, R)\n",
        "        axs[i].plot(xticks, xs[L:R])\n",
        "        if len(xs[L:R]) > 0:\n",
        "            peak = max(xs[L:R])\n",
        "            # axs[i].plot(xticks, att[L:R] * peak * 0.3)\n",
        "        if THRESHOLD!=None:\n",
        "            axs[i].axhline(y=THRESHOLD, color='r')\n",
        "    plt.show()\n",
        "  \n",
        "THRESHOLD = 0.04\n",
        "check_graph(dist1, 4, THRESHOLD=THRESHOLD)\n"
      ]
    },
    {
      "cell_type": "code",
      "execution_count": 54,
      "metadata": {
        "id": "2HI5eh0kNpO5"
      },
      "outputs": [],
      "source": [
        "'''위의 그래프를 보면 대략 0.04를 기준으로 설정할 수 있을 것으로 보입니다. \n",
        "여러 번의 실험을 통해 정밀하게 임계치를 선택하면 더 좋은 결과를 얻을 수 있을 것으로 예상합니다.'''\n",
        "\n",
        "def put_labels(distance, threshold):\n",
        "    xs = np.zeros_like(distance) # distance 랑 같은 shape을 갖는 zero matrix를 만듬.\n",
        "    xs[distance > threshold] = 1 # threshold 보다 높은값에 1을 부여. labeling\n",
        "    return xs"
      ]
    },
    {
      "cell_type": "code",
      "execution_count": 55,
      "metadata": {
        "colab": {
          "base_uri": "https://localhost:8080/"
        },
        "id": "mx9-qGdcNpHx",
        "outputId": "2f3e2efc-5693-460f-a841-4ee721cfecb1"
      },
      "outputs": [
        {
          "data": {
            "text/plain": [
              "(array([0., 0., 0., ..., 0., 0., 0.]), (358714,))"
            ]
          },
          "execution_count": 55,
          "metadata": {},
          "output_type": "execute_result"
        }
      ],
      "source": [
        "LABELS1 = put_labels(dist1, THRESHOLD)\n",
        "LABELS1, LABELS1.shape"
      ]
    },
    {
      "cell_type": "code",
      "execution_count": 56,
      "metadata": {
        "id": "5Pp5Aodyt7xQ"
      },
      "outputs": [],
      "source": [
        "ts1 = TEST_DF_RAW[TIMESTAMP_FIELD][90:]\n",
        "ts1 = np.array(ts1)"
      ]
    },
    {
      "cell_type": "code",
      "execution_count": 57,
      "metadata": {
        "id": "VRM1kaYMNpFj"
      },
      "outputs": [],
      "source": [
        "def fill_blank(check_ts, labels, total_ts): # check_ts : 타겟들.. 89번째 슬라이스부터 쭉: total_ts보다 88개 적음. //  label : attack labels which has 0 or 1. // total_ts\n",
        "    def ts_generator():\n",
        "      \n",
        "        ''' return total_ts  as time type'''\n",
        "      \n",
        "        for t in total_ts:\n",
        "            yield dateutil.parser.parse(t)\n",
        "\n",
        "    def label_generator():\n",
        "      \n",
        "        ''' return check_ts with labels '''\n",
        "\n",
        "        for t, label in zip(check_ts, labels): # check_ts : 시간 //  label : attack labels which has 0 or 1.\n",
        "            yield dateutil.parser.parse(t), label\n",
        "\n",
        "\n",
        "    g_ts = ts_generator() # yield로 생성되어서 필요할때 부르면됨. yield메모리에 저장됨.\n",
        "    g_label = label_generator()\n",
        "    final_labels = []\n",
        "\n",
        "    try:\n",
        "        current = next(g_ts) # yield의 다음 값을 호출 // total_ts를 호출\n",
        "        ts_label, label = next(g_label) # check_ts, label 호출\n",
        "        while True:\n",
        "            if current > ts_label:\n",
        "                ts_label, label = next(g_label)\n",
        "                continue\n",
        "            elif current < ts_label:\n",
        "                final_labels.append(0)\n",
        "                current = next(g_ts)\n",
        "                continue\n",
        "            final_labels.append(label)\n",
        "            current = next(g_ts)\n",
        "            ts_label, label = next(g_label)\n",
        "    except StopIteration:\n",
        "        return np.array(final_labels, dtype=np.int8)"
      ]
    },
    {
      "cell_type": "code",
      "execution_count": 58,
      "metadata": {
        "colab": {
          "base_uri": "https://localhost:8080/"
        },
        "id": "b7jSjQCrNpD8",
        "outputId": "bd2e16e6-e8d9-42ea-d702-72ad5202d2a3"
      },
      "outputs": [
        {
          "name": "stdout",
          "output_type": "stream",
          "text": [
            "CPU times: user 1min 7s, sys: 314 ms, total: 1min 7s\n",
            "Wall time: 1min 11s\n"
          ]
        }
      ],
      "source": [
        "%%time\n",
        "FINAL_LABELS = fill_blank(ts1, LABELS1, np.array(TEST_DF_RAW[TIMESTAMP_FIELD]))\n",
        "FINAL_LABELS.shape"
      ]
    },
    {
      "cell_type": "code",
      "execution_count": 59,
      "metadata": {
        "colab": {
          "base_uri": "https://localhost:8080/"
        },
        "id": "7YadxWKau4M-",
        "outputId": "a4955e64-447f-4d07-c675-8fd2d9a042ce"
      },
      "outputs": [
        {
          "data": {
            "text/plain": [
              "(358804,)"
            ]
          },
          "execution_count": 59,
          "metadata": {},
          "output_type": "execute_result"
        }
      ],
      "source": [
        "FINAL_LABELS.shape"
      ]
    },
    {
      "cell_type": "code",
      "execution_count": 60,
      "metadata": {
        "colab": {
          "base_uri": "https://localhost:8080/",
          "height": 442
        },
        "id": "ic3xmUvZv8s4",
        "outputId": "0c789743-1c2a-4231-f578-d32d333e0831"
      },
      "outputs": [
        {
          "data": {
            "text/html": [
              "\n",
              "  <div id=\"df-cc4973cd-f871-4bb9-81c2-22266f704031\">\n",
              "    <div class=\"colab-df-container\">\n",
              "      <div>\n",
              "<style scoped>\n",
              "    .dataframe tbody tr th:only-of-type {\n",
              "        vertical-align: middle;\n",
              "    }\n",
              "\n",
              "    .dataframe tbody tr th {\n",
              "        vertical-align: top;\n",
              "    }\n",
              "\n",
              "    .dataframe thead th {\n",
              "        text-align: right;\n",
              "    }\n",
              "</style>\n",
              "<table border=\"1\" class=\"dataframe\">\n",
              "  <thead>\n",
              "    <tr style=\"text-align: right;\">\n",
              "      <th></th>\n",
              "      <th>time</th>\n",
              "      <th>attack</th>\n",
              "    </tr>\n",
              "    <tr>\n",
              "      <th>time</th>\n",
              "      <th></th>\n",
              "      <th></th>\n",
              "    </tr>\n",
              "  </thead>\n",
              "  <tbody>\n",
              "    <tr>\n",
              "      <th>2020-07-09 15:00:00</th>\n",
              "      <td>2020-07-09 15:00:00</td>\n",
              "      <td>0</td>\n",
              "    </tr>\n",
              "    <tr>\n",
              "      <th>2020-07-09 15:00:01</th>\n",
              "      <td>2020-07-09 15:00:01</td>\n",
              "      <td>0</td>\n",
              "    </tr>\n",
              "    <tr>\n",
              "      <th>2020-07-09 15:00:02</th>\n",
              "      <td>2020-07-09 15:00:02</td>\n",
              "      <td>0</td>\n",
              "    </tr>\n",
              "    <tr>\n",
              "      <th>2020-07-09 15:00:03</th>\n",
              "      <td>2020-07-09 15:00:03</td>\n",
              "      <td>0</td>\n",
              "    </tr>\n",
              "    <tr>\n",
              "      <th>2020-07-09 15:00:04</th>\n",
              "      <td>2020-07-09 15:00:04</td>\n",
              "      <td>0</td>\n",
              "    </tr>\n",
              "    <tr>\n",
              "      <th>...</th>\n",
              "      <td>...</td>\n",
              "      <td>...</td>\n",
              "    </tr>\n",
              "    <tr>\n",
              "      <th>2020-07-31 12:29:56</th>\n",
              "      <td>2020-07-31 12:29:56</td>\n",
              "      <td>0</td>\n",
              "    </tr>\n",
              "    <tr>\n",
              "      <th>2020-07-31 12:29:57</th>\n",
              "      <td>2020-07-31 12:29:57</td>\n",
              "      <td>0</td>\n",
              "    </tr>\n",
              "    <tr>\n",
              "      <th>2020-07-31 12:29:58</th>\n",
              "      <td>2020-07-31 12:29:58</td>\n",
              "      <td>0</td>\n",
              "    </tr>\n",
              "    <tr>\n",
              "      <th>2020-07-31 12:29:59</th>\n",
              "      <td>2020-07-31 12:29:59</td>\n",
              "      <td>0</td>\n",
              "    </tr>\n",
              "    <tr>\n",
              "      <th>2020-07-31 12:30:00</th>\n",
              "      <td>2020-07-31 12:30:00</td>\n",
              "      <td>0</td>\n",
              "    </tr>\n",
              "  </tbody>\n",
              "</table>\n",
              "<p>358804 rows × 2 columns</p>\n",
              "</div>\n",
              "      <button class=\"colab-df-convert\" onclick=\"convertToInteractive('df-cc4973cd-f871-4bb9-81c2-22266f704031')\"\n",
              "              title=\"Convert this dataframe to an interactive table.\"\n",
              "              style=\"display:none;\">\n",
              "        \n",
              "  <svg xmlns=\"http://www.w3.org/2000/svg\" height=\"24px\"viewBox=\"0 0 24 24\"\n",
              "       width=\"24px\">\n",
              "    <path d=\"M0 0h24v24H0V0z\" fill=\"none\"/>\n",
              "    <path d=\"M18.56 5.44l.94 2.06.94-2.06 2.06-.94-2.06-.94-.94-2.06-.94 2.06-2.06.94zm-11 1L8.5 8.5l.94-2.06 2.06-.94-2.06-.94L8.5 2.5l-.94 2.06-2.06.94zm10 10l.94 2.06.94-2.06 2.06-.94-2.06-.94-.94-2.06-.94 2.06-2.06.94z\"/><path d=\"M17.41 7.96l-1.37-1.37c-.4-.4-.92-.59-1.43-.59-.52 0-1.04.2-1.43.59L10.3 9.45l-7.72 7.72c-.78.78-.78 2.05 0 2.83L4 21.41c.39.39.9.59 1.41.59.51 0 1.02-.2 1.41-.59l7.78-7.78 2.81-2.81c.8-.78.8-2.07 0-2.86zM5.41 20L4 18.59l7.72-7.72 1.47 1.35L5.41 20z\"/>\n",
              "  </svg>\n",
              "      </button>\n",
              "      \n",
              "  <style>\n",
              "    .colab-df-container {\n",
              "      display:flex;\n",
              "      flex-wrap:wrap;\n",
              "      gap: 12px;\n",
              "    }\n",
              "\n",
              "    .colab-df-convert {\n",
              "      background-color: #E8F0FE;\n",
              "      border: none;\n",
              "      border-radius: 50%;\n",
              "      cursor: pointer;\n",
              "      display: none;\n",
              "      fill: #1967D2;\n",
              "      height: 32px;\n",
              "      padding: 0 0 0 0;\n",
              "      width: 32px;\n",
              "    }\n",
              "\n",
              "    .colab-df-convert:hover {\n",
              "      background-color: #E2EBFA;\n",
              "      box-shadow: 0px 1px 2px rgba(60, 64, 67, 0.3), 0px 1px 3px 1px rgba(60, 64, 67, 0.15);\n",
              "      fill: #174EA6;\n",
              "    }\n",
              "\n",
              "    [theme=dark] .colab-df-convert {\n",
              "      background-color: #3B4455;\n",
              "      fill: #D2E3FC;\n",
              "    }\n",
              "\n",
              "    [theme=dark] .colab-df-convert:hover {\n",
              "      background-color: #434B5C;\n",
              "      box-shadow: 0px 1px 3px 1px rgba(0, 0, 0, 0.15);\n",
              "      filter: drop-shadow(0px 1px 2px rgba(0, 0, 0, 0.3));\n",
              "      fill: #FFFFFF;\n",
              "    }\n",
              "  </style>\n",
              "\n",
              "      <script>\n",
              "        const buttonEl =\n",
              "          document.querySelector('#df-cc4973cd-f871-4bb9-81c2-22266f704031 button.colab-df-convert');\n",
              "        buttonEl.style.display =\n",
              "          google.colab.kernel.accessAllowed ? 'block' : 'none';\n",
              "\n",
              "        async function convertToInteractive(key) {\n",
              "          const element = document.querySelector('#df-cc4973cd-f871-4bb9-81c2-22266f704031');\n",
              "          const dataTable =\n",
              "            await google.colab.kernel.invokeFunction('convertToInteractive',\n",
              "                                                     [key], {});\n",
              "          if (!dataTable) return;\n",
              "\n",
              "          const docLinkHtml = 'Like what you see? Visit the ' +\n",
              "            '<a target=\"_blank\" href=https://colab.research.google.com/notebooks/data_table.ipynb>data table notebook</a>'\n",
              "            + ' to learn more about interactive tables.';\n",
              "          element.innerHTML = '';\n",
              "          dataTable['output_type'] = 'display_data';\n",
              "          await google.colab.output.renderOutput(dataTable, element);\n",
              "          const docLink = document.createElement('div');\n",
              "          docLink.innerHTML = docLinkHtml;\n",
              "          element.appendChild(docLink);\n",
              "        }\n",
              "      </script>\n",
              "    </div>\n",
              "  </div>\n",
              "  "
            ],
            "text/plain": [
              "                                    time  attack\n",
              "time                                            \n",
              "2020-07-09 15:00:00  2020-07-09 15:00:00       0\n",
              "2020-07-09 15:00:01  2020-07-09 15:00:01       0\n",
              "2020-07-09 15:00:02  2020-07-09 15:00:02       0\n",
              "2020-07-09 15:00:03  2020-07-09 15:00:03       0\n",
              "2020-07-09 15:00:04  2020-07-09 15:00:04       0\n",
              "...                                  ...     ...\n",
              "2020-07-31 12:29:56  2020-07-31 12:29:56       0\n",
              "2020-07-31 12:29:57  2020-07-31 12:29:57       0\n",
              "2020-07-31 12:29:58  2020-07-31 12:29:58       0\n",
              "2020-07-31 12:29:59  2020-07-31 12:29:59       0\n",
              "2020-07-31 12:30:00  2020-07-31 12:30:00       0\n",
              "\n",
              "[358804 rows x 2 columns]"
            ]
          },
          "execution_count": 60,
          "metadata": {},
          "output_type": "execute_result"
        }
      ],
      "source": [
        "submission = pd.read_csv('/gdrive/My Drive/dacon/security_detect/sample_submission.csv')\n",
        "submission.index = submission['time']\n",
        "submission.loc[TEST_DF_RAW[TIMESTAMP_FIELD],'attack'] = FINAL_LABELS\n",
        "submission"
      ]
    },
    {
      "cell_type": "code",
      "execution_count": null,
      "metadata": {
        "colab": {
          "base_uri": "https://localhost:8080/",
          "height": 391
        },
        "id": "HG4XNxrY-3Zi",
        "outputId": "79de7ff6-e865-4bf6-d746-76b285dcbb1f"
      },
      "outputs": [
        {
          "data": {
            "text/html": [
              "<div>\n",
              "<style scoped>\n",
              "    .dataframe tbody tr th:only-of-type {\n",
              "        vertical-align: middle;\n",
              "    }\n",
              "\n",
              "    .dataframe tbody tr th {\n",
              "        vertical-align: top;\n",
              "    }\n",
              "\n",
              "    .dataframe thead th {\n",
              "        text-align: right;\n",
              "    }\n",
              "</style>\n",
              "<table border=\"1\" class=\"dataframe\">\n",
              "  <thead>\n",
              "    <tr style=\"text-align: right;\">\n",
              "      <th></th>\n",
              "      <th>time</th>\n",
              "      <th>attack</th>\n",
              "    </tr>\n",
              "  </thead>\n",
              "  <tbody>\n",
              "    <tr>\n",
              "      <th>0</th>\n",
              "      <td>2020-07-09 15:00:00</td>\n",
              "      <td>0</td>\n",
              "    </tr>\n",
              "    <tr>\n",
              "      <th>1</th>\n",
              "      <td>2020-07-09 15:00:01</td>\n",
              "      <td>0</td>\n",
              "    </tr>\n",
              "    <tr>\n",
              "      <th>2</th>\n",
              "      <td>2020-07-09 15:00:02</td>\n",
              "      <td>0</td>\n",
              "    </tr>\n",
              "    <tr>\n",
              "      <th>3</th>\n",
              "      <td>2020-07-09 15:00:03</td>\n",
              "      <td>0</td>\n",
              "    </tr>\n",
              "    <tr>\n",
              "      <th>4</th>\n",
              "      <td>2020-07-09 15:00:04</td>\n",
              "      <td>0</td>\n",
              "    </tr>\n",
              "    <tr>\n",
              "      <th>...</th>\n",
              "      <td>...</td>\n",
              "      <td>...</td>\n",
              "    </tr>\n",
              "    <tr>\n",
              "      <th>358799</th>\n",
              "      <td>2020-07-31 12:29:56</td>\n",
              "      <td>0</td>\n",
              "    </tr>\n",
              "    <tr>\n",
              "      <th>358800</th>\n",
              "      <td>2020-07-31 12:29:57</td>\n",
              "      <td>0</td>\n",
              "    </tr>\n",
              "    <tr>\n",
              "      <th>358801</th>\n",
              "      <td>2020-07-31 12:29:58</td>\n",
              "      <td>0</td>\n",
              "    </tr>\n",
              "    <tr>\n",
              "      <th>358802</th>\n",
              "      <td>2020-07-31 12:29:59</td>\n",
              "      <td>0</td>\n",
              "    </tr>\n",
              "    <tr>\n",
              "      <th>358803</th>\n",
              "      <td>2020-07-31 12:30:00</td>\n",
              "      <td>0</td>\n",
              "    </tr>\n",
              "  </tbody>\n",
              "</table>\n",
              "<p>358804 rows × 2 columns</p>\n",
              "</div>"
            ],
            "text/plain": [
              "                       time  attack\n",
              "0       2020-07-09 15:00:00       0\n",
              "1       2020-07-09 15:00:01       0\n",
              "2       2020-07-09 15:00:02       0\n",
              "3       2020-07-09 15:00:03       0\n",
              "4       2020-07-09 15:00:04       0\n",
              "...                     ...     ...\n",
              "358799  2020-07-31 12:29:56       0\n",
              "358800  2020-07-31 12:29:57       0\n",
              "358801  2020-07-31 12:29:58       0\n",
              "358802  2020-07-31 12:29:59       0\n",
              "358803  2020-07-31 12:30:00       0\n",
              "\n",
              "[358804 rows x 2 columns]"
            ]
          },
          "execution_count": 43,
          "metadata": {
            "tags": []
          },
          "output_type": "execute_result"
        }
      ],
      "source": [
        "submission = pd.read_csv('/gdrive/My Drive/dacon/security_detect/sample_submission.csv')\n",
        "submission"
      ]
    },
    {
      "cell_type": "code",
      "execution_count": null,
      "metadata": {
        "id": "pjH_PmInwv6k"
      },
      "outputs": [],
      "source": []
    },
    {
      "cell_type": "code",
      "execution_count": null,
      "metadata": {
        "id": "J097IyP0No_m"
      },
      "outputs": [],
      "source": [
        "TaPR = etapr.evaluate(anomalies=ATTACK_LABELS, predictions=FINAL_LABELS)\n",
        "print(f\"F1: {TaPR['f1']:.3f} (TaP: {TaPR['TaP']:.3f}, TaR: {TaPR['TaR']:.3f})\")\n",
        "print(f\"# of detected anomalies: {len(TaPR['Detected_Anomalies'])}\")\n",
        "print(f\"Detected anomalies: {TaPR['Detected_Anomalies']}\")"
      ]
    },
    {
      "cell_type": "code",
      "execution_count": null,
      "metadata": {
        "id": "XSPorsUdNo8g"
      },
      "outputs": [],
      "source": []
    },
    {
      "cell_type": "code",
      "execution_count": null,
      "metadata": {
        "id": "ANvQcC8INopf"
      },
      "outputs": [],
      "source": []
    },
    {
      "cell_type": "code",
      "execution_count": null,
      "metadata": {
        "id": "3HEcr4Xn_Evp"
      },
      "outputs": [],
      "source": []
    },
    {
      "cell_type": "code",
      "execution_count": null,
      "metadata": {
        "id": "gtUcnyo0_E6P"
      },
      "outputs": [],
      "source": []
    },
    {
      "cell_type": "code",
      "execution_count": null,
      "metadata": {
        "id": "YGdkk-rx_E99"
      },
      "outputs": [],
      "source": []
    },
    {
      "cell_type": "code",
      "execution_count": null,
      "metadata": {
        "id": "uyGxTaHi_E0d"
      },
      "outputs": [],
      "source": []
    },
    {
      "cell_type": "code",
      "execution_count": null,
      "metadata": {
        "id": "2wWR87Fn_Esv"
      },
      "outputs": [],
      "source": []
    },
    {
      "cell_type": "markdown",
      "metadata": {
        "id": "-QZ9J6Wi_M-q"
      },
      "source": [
        "# 테스트 데이터셋 예측\n",
        "\n",
        "---\n",
        "\n",
        "\n",
        "\n",
        "---\n",
        "\n"
      ]
    },
    {
      "cell_type": "code",
      "execution_count": null,
      "metadata": {
        "id": "iSKIj0Qv_Fz7"
      },
      "outputs": [],
      "source": [
        "TEST_DATASET = sorted([x for x in Path('/gdrive/My Drive/dacon/security_detect/test-dataset/').glob(\"*.csv\")])\n",
        "TEST_DATASET\n",
        "\n",
        "order = 0\n",
        "TEST_DF_RAW = pd.read_csv(TEST_DATASET[order], error_bad_lines=False).rename(columns=lambda x: x.strip())\n"
      ]
    },
    {
      "cell_type": "code",
      "execution_count": null,
      "metadata": {
        "id": "zfHoq5ibDlNH"
      },
      "outputs": [],
      "source": [
        "# 여기서 트레인으로 노말라이즈 하는게 맞는지, 테스트셋으로 노말라이즈 해야되는거 아닌지...\n",
        "# TAG_MIN = TRAIN_DF_RAW[VALID_COLUMNS_IN_TRAIN_DATASET].min()\n",
        "# TAG_MAX = TRAIN_DF_RAW[VALID_COLUMNS_IN_TRAIN_DATASET].max()"
      ]
    },
    {
      "cell_type": "code",
      "execution_count": null,
      "metadata": {
        "colab": {
          "base_uri": "https://localhost:8080/",
          "height": 768
        },
        "id": "FuDkFlqFLM0B",
        "outputId": "c6f69307-e9d4-4e88-865e-1d1501800352"
      },
      "outputs": [
        {
          "ename": "KeyError",
          "evalue": "ignored",
          "output_type": "error",
          "traceback": [
            "\u001b[0;31m---------------------------------------------------------------------------\u001b[0m",
            "\u001b[0;31mKeyError\u001b[0m                                  Traceback (most recent call last)",
            "\u001b[0;32m/usr/local/lib/python3.6/dist-packages/pandas/core/indexes/base.py\u001b[0m in \u001b[0;36mget_loc\u001b[0;34m(self, key, method, tolerance)\u001b[0m\n\u001b[1;32m   2645\u001b[0m             \u001b[0;32mtry\u001b[0m\u001b[0;34m:\u001b[0m\u001b[0;34m\u001b[0m\u001b[0;34m\u001b[0m\u001b[0m\n\u001b[0;32m-> 2646\u001b[0;31m                 \u001b[0;32mreturn\u001b[0m \u001b[0mself\u001b[0m\u001b[0;34m.\u001b[0m\u001b[0m_engine\u001b[0m\u001b[0;34m.\u001b[0m\u001b[0mget_loc\u001b[0m\u001b[0;34m(\u001b[0m\u001b[0mkey\u001b[0m\u001b[0;34m)\u001b[0m\u001b[0;34m\u001b[0m\u001b[0;34m\u001b[0m\u001b[0m\n\u001b[0m\u001b[1;32m   2647\u001b[0m             \u001b[0;32mexcept\u001b[0m \u001b[0mKeyError\u001b[0m\u001b[0;34m:\u001b[0m\u001b[0;34m\u001b[0m\u001b[0;34m\u001b[0m\u001b[0m\n",
            "\u001b[0;32mpandas/_libs/index.pyx\u001b[0m in \u001b[0;36mpandas._libs.index.IndexEngine.get_loc\u001b[0;34m()\u001b[0m\n",
            "\u001b[0;32mpandas/_libs/index.pyx\u001b[0m in \u001b[0;36mpandas._libs.index.IndexEngine.get_loc\u001b[0;34m()\u001b[0m\n",
            "\u001b[0;32mpandas/_libs/hashtable_class_helper.pxi\u001b[0m in \u001b[0;36mpandas._libs.hashtable.PyObjectHashTable.get_item\u001b[0;34m()\u001b[0m\n",
            "\u001b[0;32mpandas/_libs/hashtable_class_helper.pxi\u001b[0m in \u001b[0;36mpandas._libs.hashtable.PyObjectHashTable.get_item\u001b[0;34m()\u001b[0m\n",
            "\u001b[0;31mKeyError\u001b[0m: 'C01'",
            "\nDuring handling of the above exception, another exception occurred:\n",
            "\u001b[0;31mKeyError\u001b[0m                                  Traceback (most recent call last)",
            "\u001b[0;32m<ipython-input-25-081cca755a5c>\u001b[0m in \u001b[0;36m<module>\u001b[0;34m()\u001b[0m\n\u001b[0;32m----> 1\u001b[0;31m \u001b[0mnormalize\u001b[0m\u001b[0;34m(\u001b[0m\u001b[0mTEST_DF_RAW\u001b[0m\u001b[0;34m[\u001b[0m\u001b[0mVALID_COLUMNS_IN_TRAIN_DATASET\u001b[0m\u001b[0;34m]\u001b[0m\u001b[0;34m)\u001b[0m\u001b[0;34m\u001b[0m\u001b[0;34m\u001b[0m\u001b[0m\n\u001b[0m",
            "\u001b[0;32m<ipython-input-9-1f5ac4438105>\u001b[0m in \u001b[0;36mnormalize\u001b[0;34m(df)\u001b[0m\n\u001b[1;32m      3\u001b[0m     \u001b[0mndf\u001b[0m \u001b[0;34m=\u001b[0m \u001b[0mdf\u001b[0m\u001b[0;34m.\u001b[0m\u001b[0mcopy\u001b[0m\u001b[0;34m(\u001b[0m\u001b[0;34m)\u001b[0m\u001b[0;34m\u001b[0m\u001b[0;34m\u001b[0m\u001b[0m\n\u001b[1;32m      4\u001b[0m     \u001b[0;32mfor\u001b[0m \u001b[0mc\u001b[0m \u001b[0;32min\u001b[0m \u001b[0mdf\u001b[0m\u001b[0;34m.\u001b[0m\u001b[0mcolumns\u001b[0m\u001b[0;34m:\u001b[0m\u001b[0;34m\u001b[0m\u001b[0;34m\u001b[0m\u001b[0m\n\u001b[0;32m----> 5\u001b[0;31m         \u001b[0;32mif\u001b[0m \u001b[0mTAG_MIN\u001b[0m\u001b[0;34m[\u001b[0m\u001b[0mc\u001b[0m\u001b[0;34m]\u001b[0m \u001b[0;34m==\u001b[0m \u001b[0mTAG_MAX\u001b[0m\u001b[0;34m[\u001b[0m\u001b[0mc\u001b[0m\u001b[0;34m]\u001b[0m\u001b[0;34m:\u001b[0m\u001b[0;34m\u001b[0m\u001b[0;34m\u001b[0m\u001b[0m\n\u001b[0m\u001b[1;32m      6\u001b[0m             \u001b[0mndf\u001b[0m\u001b[0;34m[\u001b[0m\u001b[0mc\u001b[0m\u001b[0;34m]\u001b[0m \u001b[0;34m=\u001b[0m \u001b[0mdf\u001b[0m\u001b[0;34m[\u001b[0m\u001b[0mc\u001b[0m\u001b[0;34m]\u001b[0m \u001b[0;34m-\u001b[0m \u001b[0mTAG_MIN\u001b[0m\u001b[0;34m[\u001b[0m\u001b[0mc\u001b[0m\u001b[0;34m]\u001b[0m\u001b[0;34m\u001b[0m\u001b[0;34m\u001b[0m\u001b[0m\n\u001b[1;32m      7\u001b[0m         \u001b[0;32melse\u001b[0m\u001b[0;34m:\u001b[0m\u001b[0;34m\u001b[0m\u001b[0;34m\u001b[0m\u001b[0m\n",
            "\u001b[0;32m/usr/local/lib/python3.6/dist-packages/pandas/core/frame.py\u001b[0m in \u001b[0;36m__getitem__\u001b[0;34m(self, key)\u001b[0m\n\u001b[1;32m   2798\u001b[0m             \u001b[0;32mif\u001b[0m \u001b[0mself\u001b[0m\u001b[0;34m.\u001b[0m\u001b[0mcolumns\u001b[0m\u001b[0;34m.\u001b[0m\u001b[0mnlevels\u001b[0m \u001b[0;34m>\u001b[0m \u001b[0;36m1\u001b[0m\u001b[0;34m:\u001b[0m\u001b[0;34m\u001b[0m\u001b[0;34m\u001b[0m\u001b[0m\n\u001b[1;32m   2799\u001b[0m                 \u001b[0;32mreturn\u001b[0m \u001b[0mself\u001b[0m\u001b[0;34m.\u001b[0m\u001b[0m_getitem_multilevel\u001b[0m\u001b[0;34m(\u001b[0m\u001b[0mkey\u001b[0m\u001b[0;34m)\u001b[0m\u001b[0;34m\u001b[0m\u001b[0;34m\u001b[0m\u001b[0m\n\u001b[0;32m-> 2800\u001b[0;31m             \u001b[0mindexer\u001b[0m \u001b[0;34m=\u001b[0m \u001b[0mself\u001b[0m\u001b[0;34m.\u001b[0m\u001b[0mcolumns\u001b[0m\u001b[0;34m.\u001b[0m\u001b[0mget_loc\u001b[0m\u001b[0;34m(\u001b[0m\u001b[0mkey\u001b[0m\u001b[0;34m)\u001b[0m\u001b[0;34m\u001b[0m\u001b[0;34m\u001b[0m\u001b[0m\n\u001b[0m\u001b[1;32m   2801\u001b[0m             \u001b[0;32mif\u001b[0m \u001b[0mis_integer\u001b[0m\u001b[0;34m(\u001b[0m\u001b[0mindexer\u001b[0m\u001b[0;34m)\u001b[0m\u001b[0;34m:\u001b[0m\u001b[0;34m\u001b[0m\u001b[0;34m\u001b[0m\u001b[0m\n\u001b[1;32m   2802\u001b[0m                 \u001b[0mindexer\u001b[0m \u001b[0;34m=\u001b[0m \u001b[0;34m[\u001b[0m\u001b[0mindexer\u001b[0m\u001b[0;34m]\u001b[0m\u001b[0;34m\u001b[0m\u001b[0;34m\u001b[0m\u001b[0m\n",
            "\u001b[0;32m/usr/local/lib/python3.6/dist-packages/pandas/core/indexes/base.py\u001b[0m in \u001b[0;36mget_loc\u001b[0;34m(self, key, method, tolerance)\u001b[0m\n\u001b[1;32m   2646\u001b[0m                 \u001b[0;32mreturn\u001b[0m \u001b[0mself\u001b[0m\u001b[0;34m.\u001b[0m\u001b[0m_engine\u001b[0m\u001b[0;34m.\u001b[0m\u001b[0mget_loc\u001b[0m\u001b[0;34m(\u001b[0m\u001b[0mkey\u001b[0m\u001b[0;34m)\u001b[0m\u001b[0;34m\u001b[0m\u001b[0;34m\u001b[0m\u001b[0m\n\u001b[1;32m   2647\u001b[0m             \u001b[0;32mexcept\u001b[0m \u001b[0mKeyError\u001b[0m\u001b[0;34m:\u001b[0m\u001b[0;34m\u001b[0m\u001b[0;34m\u001b[0m\u001b[0m\n\u001b[0;32m-> 2648\u001b[0;31m                 \u001b[0;32mreturn\u001b[0m \u001b[0mself\u001b[0m\u001b[0;34m.\u001b[0m\u001b[0m_engine\u001b[0m\u001b[0;34m.\u001b[0m\u001b[0mget_loc\u001b[0m\u001b[0;34m(\u001b[0m\u001b[0mself\u001b[0m\u001b[0;34m.\u001b[0m\u001b[0m_maybe_cast_indexer\u001b[0m\u001b[0;34m(\u001b[0m\u001b[0mkey\u001b[0m\u001b[0;34m)\u001b[0m\u001b[0;34m)\u001b[0m\u001b[0;34m\u001b[0m\u001b[0;34m\u001b[0m\u001b[0m\n\u001b[0m\u001b[1;32m   2649\u001b[0m         \u001b[0mindexer\u001b[0m \u001b[0;34m=\u001b[0m \u001b[0mself\u001b[0m\u001b[0;34m.\u001b[0m\u001b[0mget_indexer\u001b[0m\u001b[0;34m(\u001b[0m\u001b[0;34m[\u001b[0m\u001b[0mkey\u001b[0m\u001b[0;34m]\u001b[0m\u001b[0;34m,\u001b[0m \u001b[0mmethod\u001b[0m\u001b[0;34m=\u001b[0m\u001b[0mmethod\u001b[0m\u001b[0;34m,\u001b[0m \u001b[0mtolerance\u001b[0m\u001b[0;34m=\u001b[0m\u001b[0mtolerance\u001b[0m\u001b[0;34m)\u001b[0m\u001b[0;34m\u001b[0m\u001b[0;34m\u001b[0m\u001b[0m\n\u001b[1;32m   2650\u001b[0m         \u001b[0;32mif\u001b[0m \u001b[0mindexer\u001b[0m\u001b[0;34m.\u001b[0m\u001b[0mndim\u001b[0m \u001b[0;34m>\u001b[0m \u001b[0;36m1\u001b[0m \u001b[0;32mor\u001b[0m \u001b[0mindexer\u001b[0m\u001b[0;34m.\u001b[0m\u001b[0msize\u001b[0m \u001b[0;34m>\u001b[0m \u001b[0;36m1\u001b[0m\u001b[0;34m:\u001b[0m\u001b[0;34m\u001b[0m\u001b[0;34m\u001b[0m\u001b[0m\n",
            "\u001b[0;32mpandas/_libs/index.pyx\u001b[0m in \u001b[0;36mpandas._libs.index.IndexEngine.get_loc\u001b[0;34m()\u001b[0m\n",
            "\u001b[0;32mpandas/_libs/index.pyx\u001b[0m in \u001b[0;36mpandas._libs.index.IndexEngine.get_loc\u001b[0;34m()\u001b[0m\n",
            "\u001b[0;32mpandas/_libs/hashtable_class_helper.pxi\u001b[0m in \u001b[0;36mpandas._libs.hashtable.PyObjectHashTable.get_item\u001b[0;34m()\u001b[0m\n",
            "\u001b[0;32mpandas/_libs/hashtable_class_helper.pxi\u001b[0m in \u001b[0;36mpandas._libs.hashtable.PyObjectHashTable.get_item\u001b[0;34m()\u001b[0m\n",
            "\u001b[0;31mKeyError\u001b[0m: 'C01'"
          ]
        }
      ],
      "source": [
        "normalize(TEST_DF_RAW[VALID_COLUMNS_IN_TRAIN_DATASET])"
      ]
    },
    {
      "cell_type": "code",
      "execution_count": null,
      "metadata": {
        "colab": {
          "base_uri": "https://localhost:8080/",
          "height": 768
        },
        "id": "fJvAL2GF_PTC",
        "outputId": "bd24cf69-d7b9-44a8-dcf7-bcaad4baac51"
      },
      "outputs": [
        {
          "ename": "KeyError",
          "evalue": "ignored",
          "output_type": "error",
          "traceback": [
            "\u001b[0;31m---------------------------------------------------------------------------\u001b[0m",
            "\u001b[0;31mKeyError\u001b[0m                                  Traceback (most recent call last)",
            "\u001b[0;32m/usr/local/lib/python3.6/dist-packages/pandas/core/indexes/base.py\u001b[0m in \u001b[0;36mget_loc\u001b[0;34m(self, key, method, tolerance)\u001b[0m\n\u001b[1;32m   2645\u001b[0m             \u001b[0;32mtry\u001b[0m\u001b[0;34m:\u001b[0m\u001b[0;34m\u001b[0m\u001b[0;34m\u001b[0m\u001b[0m\n\u001b[0;32m-> 2646\u001b[0;31m                 \u001b[0;32mreturn\u001b[0m \u001b[0mself\u001b[0m\u001b[0;34m.\u001b[0m\u001b[0m_engine\u001b[0m\u001b[0;34m.\u001b[0m\u001b[0mget_loc\u001b[0m\u001b[0;34m(\u001b[0m\u001b[0mkey\u001b[0m\u001b[0;34m)\u001b[0m\u001b[0;34m\u001b[0m\u001b[0;34m\u001b[0m\u001b[0m\n\u001b[0m\u001b[1;32m   2647\u001b[0m             \u001b[0;32mexcept\u001b[0m \u001b[0mKeyError\u001b[0m\u001b[0;34m:\u001b[0m\u001b[0;34m\u001b[0m\u001b[0;34m\u001b[0m\u001b[0m\n",
            "\u001b[0;32mpandas/_libs/index.pyx\u001b[0m in \u001b[0;36mpandas._libs.index.IndexEngine.get_loc\u001b[0;34m()\u001b[0m\n",
            "\u001b[0;32mpandas/_libs/index.pyx\u001b[0m in \u001b[0;36mpandas._libs.index.IndexEngine.get_loc\u001b[0;34m()\u001b[0m\n",
            "\u001b[0;32mpandas/_libs/hashtable_class_helper.pxi\u001b[0m in \u001b[0;36mpandas._libs.hashtable.PyObjectHashTable.get_item\u001b[0;34m()\u001b[0m\n",
            "\u001b[0;32mpandas/_libs/hashtable_class_helper.pxi\u001b[0m in \u001b[0;36mpandas._libs.hashtable.PyObjectHashTable.get_item\u001b[0;34m()\u001b[0m\n",
            "\u001b[0;31mKeyError\u001b[0m: 'C01'",
            "\nDuring handling of the above exception, another exception occurred:\n",
            "\u001b[0;31mKeyError\u001b[0m                                  Traceback (most recent call last)",
            "\u001b[0;32m<ipython-input-19-3dd768a814e5>\u001b[0m in \u001b[0;36m<module>\u001b[0;34m()\u001b[0m\n\u001b[1;32m      1\u001b[0m \u001b[0mVALID_COLUMNS_IN_TRAIN_DATASET\u001b[0m \u001b[0;34m=\u001b[0m \u001b[0mTEST_DF_RAW\u001b[0m\u001b[0;34m.\u001b[0m\u001b[0mcolumns\u001b[0m\u001b[0;34m.\u001b[0m\u001b[0mdrop\u001b[0m\u001b[0;34m(\u001b[0m\u001b[0;34m[\u001b[0m\u001b[0mTIMESTAMP_FIELD\u001b[0m\u001b[0;34m]\u001b[0m\u001b[0;34m)\u001b[0m\u001b[0;34m\u001b[0m\u001b[0;34m\u001b[0m\u001b[0m\n\u001b[0;32m----> 2\u001b[0;31m \u001b[0mTEST_DF\u001b[0m \u001b[0;34m=\u001b[0m \u001b[0mnormalize\u001b[0m\u001b[0;34m(\u001b[0m\u001b[0mTEST_DF_RAW\u001b[0m\u001b[0;34m[\u001b[0m\u001b[0mVALID_COLUMNS_IN_TRAIN_DATASET\u001b[0m\u001b[0;34m]\u001b[0m\u001b[0;34m)\u001b[0m\u001b[0;34m.\u001b[0m\u001b[0mewm\u001b[0m\u001b[0;34m(\u001b[0m\u001b[0malpha\u001b[0m\u001b[0;34m=\u001b[0m\u001b[0;36m0.9\u001b[0m\u001b[0;34m)\u001b[0m\u001b[0;34m.\u001b[0m\u001b[0mmean\u001b[0m\u001b[0;34m(\u001b[0m\u001b[0;34m)\u001b[0m\u001b[0;34m\u001b[0m\u001b[0;34m\u001b[0m\u001b[0m\n\u001b[0m\u001b[1;32m      3\u001b[0m \u001b[0mTEST_DF\u001b[0m\u001b[0;34m\u001b[0m\u001b[0;34m\u001b[0m\u001b[0m\n",
            "\u001b[0;32m<ipython-input-9-1f5ac4438105>\u001b[0m in \u001b[0;36mnormalize\u001b[0;34m(df)\u001b[0m\n\u001b[1;32m      3\u001b[0m     \u001b[0mndf\u001b[0m \u001b[0;34m=\u001b[0m \u001b[0mdf\u001b[0m\u001b[0;34m.\u001b[0m\u001b[0mcopy\u001b[0m\u001b[0;34m(\u001b[0m\u001b[0;34m)\u001b[0m\u001b[0;34m\u001b[0m\u001b[0;34m\u001b[0m\u001b[0m\n\u001b[1;32m      4\u001b[0m     \u001b[0;32mfor\u001b[0m \u001b[0mc\u001b[0m \u001b[0;32min\u001b[0m \u001b[0mdf\u001b[0m\u001b[0;34m.\u001b[0m\u001b[0mcolumns\u001b[0m\u001b[0;34m:\u001b[0m\u001b[0;34m\u001b[0m\u001b[0;34m\u001b[0m\u001b[0m\n\u001b[0;32m----> 5\u001b[0;31m         \u001b[0;32mif\u001b[0m \u001b[0mTAG_MIN\u001b[0m\u001b[0;34m[\u001b[0m\u001b[0mc\u001b[0m\u001b[0;34m]\u001b[0m \u001b[0;34m==\u001b[0m \u001b[0mTAG_MAX\u001b[0m\u001b[0;34m[\u001b[0m\u001b[0mc\u001b[0m\u001b[0;34m]\u001b[0m\u001b[0;34m:\u001b[0m\u001b[0;34m\u001b[0m\u001b[0;34m\u001b[0m\u001b[0m\n\u001b[0m\u001b[1;32m      6\u001b[0m             \u001b[0mndf\u001b[0m\u001b[0;34m[\u001b[0m\u001b[0mc\u001b[0m\u001b[0;34m]\u001b[0m \u001b[0;34m=\u001b[0m \u001b[0mdf\u001b[0m\u001b[0;34m[\u001b[0m\u001b[0mc\u001b[0m\u001b[0;34m]\u001b[0m \u001b[0;34m-\u001b[0m \u001b[0mTAG_MIN\u001b[0m\u001b[0;34m[\u001b[0m\u001b[0mc\u001b[0m\u001b[0;34m]\u001b[0m\u001b[0;34m\u001b[0m\u001b[0;34m\u001b[0m\u001b[0m\n\u001b[1;32m      7\u001b[0m         \u001b[0;32melse\u001b[0m\u001b[0;34m:\u001b[0m\u001b[0;34m\u001b[0m\u001b[0;34m\u001b[0m\u001b[0m\n",
            "\u001b[0;32m/usr/local/lib/python3.6/dist-packages/pandas/core/frame.py\u001b[0m in \u001b[0;36m__getitem__\u001b[0;34m(self, key)\u001b[0m\n\u001b[1;32m   2798\u001b[0m             \u001b[0;32mif\u001b[0m \u001b[0mself\u001b[0m\u001b[0;34m.\u001b[0m\u001b[0mcolumns\u001b[0m\u001b[0;34m.\u001b[0m\u001b[0mnlevels\u001b[0m \u001b[0;34m>\u001b[0m \u001b[0;36m1\u001b[0m\u001b[0;34m:\u001b[0m\u001b[0;34m\u001b[0m\u001b[0;34m\u001b[0m\u001b[0m\n\u001b[1;32m   2799\u001b[0m                 \u001b[0;32mreturn\u001b[0m \u001b[0mself\u001b[0m\u001b[0;34m.\u001b[0m\u001b[0m_getitem_multilevel\u001b[0m\u001b[0;34m(\u001b[0m\u001b[0mkey\u001b[0m\u001b[0;34m)\u001b[0m\u001b[0;34m\u001b[0m\u001b[0;34m\u001b[0m\u001b[0m\n\u001b[0;32m-> 2800\u001b[0;31m             \u001b[0mindexer\u001b[0m \u001b[0;34m=\u001b[0m \u001b[0mself\u001b[0m\u001b[0;34m.\u001b[0m\u001b[0mcolumns\u001b[0m\u001b[0;34m.\u001b[0m\u001b[0mget_loc\u001b[0m\u001b[0;34m(\u001b[0m\u001b[0mkey\u001b[0m\u001b[0;34m)\u001b[0m\u001b[0;34m\u001b[0m\u001b[0;34m\u001b[0m\u001b[0m\n\u001b[0m\u001b[1;32m   2801\u001b[0m             \u001b[0;32mif\u001b[0m \u001b[0mis_integer\u001b[0m\u001b[0;34m(\u001b[0m\u001b[0mindexer\u001b[0m\u001b[0;34m)\u001b[0m\u001b[0;34m:\u001b[0m\u001b[0;34m\u001b[0m\u001b[0;34m\u001b[0m\u001b[0m\n\u001b[1;32m   2802\u001b[0m                 \u001b[0mindexer\u001b[0m \u001b[0;34m=\u001b[0m \u001b[0;34m[\u001b[0m\u001b[0mindexer\u001b[0m\u001b[0;34m]\u001b[0m\u001b[0;34m\u001b[0m\u001b[0;34m\u001b[0m\u001b[0m\n",
            "\u001b[0;32m/usr/local/lib/python3.6/dist-packages/pandas/core/indexes/base.py\u001b[0m in \u001b[0;36mget_loc\u001b[0;34m(self, key, method, tolerance)\u001b[0m\n\u001b[1;32m   2646\u001b[0m                 \u001b[0;32mreturn\u001b[0m \u001b[0mself\u001b[0m\u001b[0;34m.\u001b[0m\u001b[0m_engine\u001b[0m\u001b[0;34m.\u001b[0m\u001b[0mget_loc\u001b[0m\u001b[0;34m(\u001b[0m\u001b[0mkey\u001b[0m\u001b[0;34m)\u001b[0m\u001b[0;34m\u001b[0m\u001b[0;34m\u001b[0m\u001b[0m\n\u001b[1;32m   2647\u001b[0m             \u001b[0;32mexcept\u001b[0m \u001b[0mKeyError\u001b[0m\u001b[0;34m:\u001b[0m\u001b[0;34m\u001b[0m\u001b[0;34m\u001b[0m\u001b[0m\n\u001b[0;32m-> 2648\u001b[0;31m                 \u001b[0;32mreturn\u001b[0m \u001b[0mself\u001b[0m\u001b[0;34m.\u001b[0m\u001b[0m_engine\u001b[0m\u001b[0;34m.\u001b[0m\u001b[0mget_loc\u001b[0m\u001b[0;34m(\u001b[0m\u001b[0mself\u001b[0m\u001b[0;34m.\u001b[0m\u001b[0m_maybe_cast_indexer\u001b[0m\u001b[0;34m(\u001b[0m\u001b[0mkey\u001b[0m\u001b[0;34m)\u001b[0m\u001b[0;34m)\u001b[0m\u001b[0;34m\u001b[0m\u001b[0;34m\u001b[0m\u001b[0m\n\u001b[0m\u001b[1;32m   2649\u001b[0m         \u001b[0mindexer\u001b[0m \u001b[0;34m=\u001b[0m \u001b[0mself\u001b[0m\u001b[0;34m.\u001b[0m\u001b[0mget_indexer\u001b[0m\u001b[0;34m(\u001b[0m\u001b[0;34m[\u001b[0m\u001b[0mkey\u001b[0m\u001b[0;34m]\u001b[0m\u001b[0;34m,\u001b[0m \u001b[0mmethod\u001b[0m\u001b[0;34m=\u001b[0m\u001b[0mmethod\u001b[0m\u001b[0;34m,\u001b[0m \u001b[0mtolerance\u001b[0m\u001b[0;34m=\u001b[0m\u001b[0mtolerance\u001b[0m\u001b[0;34m)\u001b[0m\u001b[0;34m\u001b[0m\u001b[0;34m\u001b[0m\u001b[0m\n\u001b[1;32m   2650\u001b[0m         \u001b[0;32mif\u001b[0m \u001b[0mindexer\u001b[0m\u001b[0;34m.\u001b[0m\u001b[0mndim\u001b[0m \u001b[0;34m>\u001b[0m \u001b[0;36m1\u001b[0m \u001b[0;32mor\u001b[0m \u001b[0mindexer\u001b[0m\u001b[0;34m.\u001b[0m\u001b[0msize\u001b[0m \u001b[0;34m>\u001b[0m \u001b[0;36m1\u001b[0m\u001b[0;34m:\u001b[0m\u001b[0;34m\u001b[0m\u001b[0;34m\u001b[0m\u001b[0m\n",
            "\u001b[0;32mpandas/_libs/index.pyx\u001b[0m in \u001b[0;36mpandas._libs.index.IndexEngine.get_loc\u001b[0;34m()\u001b[0m\n",
            "\u001b[0;32mpandas/_libs/index.pyx\u001b[0m in \u001b[0;36mpandas._libs.index.IndexEngine.get_loc\u001b[0;34m()\u001b[0m\n",
            "\u001b[0;32mpandas/_libs/hashtable_class_helper.pxi\u001b[0m in \u001b[0;36mpandas._libs.hashtable.PyObjectHashTable.get_item\u001b[0;34m()\u001b[0m\n",
            "\u001b[0;32mpandas/_libs/hashtable_class_helper.pxi\u001b[0m in \u001b[0;36mpandas._libs.hashtable.PyObjectHashTable.get_item\u001b[0;34m()\u001b[0m\n",
            "\u001b[0;31mKeyError\u001b[0m: 'C01'"
          ]
        }
      ],
      "source": [
        "VALID_COLUMNS_IN_TRAIN_DATASET = TEST_DF_RAW.columns.drop([TIMESTAMP_FIELD])\n",
        "TEST_DF = normalize(TEST_DF_RAW[VALID_COLUMNS_IN_TRAIN_DATASET]).ewm(alpha=0.9).mean()\n",
        "TEST_DF"
      ]
    },
    {
      "cell_type": "code",
      "execution_count": null,
      "metadata": {
        "colab": {
          "base_uri": "https://localhost:8080/",
          "height": 33
        },
        "id": "djWU2ZFZ_Pqq",
        "outputId": "aa3c672d-bdad-40d4-c014-08e6315a3810"
      },
      "outputs": [
        {
          "data": {
            "text/plain": [
              "(True, True, False)"
            ]
          },
          "execution_count": 31,
          "metadata": {
            "tags": []
          },
          "output_type": "execute_result"
        }
      ],
      "source": [
        "boundary_check(TEST_DF)"
      ]
    },
    {
      "cell_type": "code",
      "execution_count": null,
      "metadata": {
        "id": "vL094QPgBKk6"
      },
      "outputs": [],
      "source": [
        "WINDOW_GIVEN = 89\n",
        "WINDOW_SIZE = 90\n",
        "\n",
        "\n",
        "\n",
        "def test_prepare(timestamps, df, raw_df, stride = 1, attacks=None):\n",
        "  ''' 89 개씩 자르는 전처리 '''\n",
        "  X = []\n",
        "  Y = []\n",
        "  ts_list = []\n",
        "  att_list = []\n",
        "  \n",
        "  # ts = np.array(TRAIN_DF_RAW[TIMESTAMP_FIELD])\n",
        "  # tag_values = np.array(TRAIN_DF, dtype=np.float32)\n",
        "  ts = np.array(timestamps)\n",
        "  tag_values = np.array(df, dtype=np.float32)\n",
        "  valid_idxs = []\n",
        "\n",
        "\n",
        "  ''' 시퀀스 스트라이드 1로 '''\n",
        "  for t in trange(len(ts) - WINDOW_SIZE):\n",
        "      x = tag_values[t:t+WINDOW_GIVEN]\n",
        "      X.append(x)\n",
        "      y = tag_values[t+WINDOW_SIZE]\n",
        "      Y.append(y)\n",
        "\n",
        "      ts_list.append(ts[t+WINDOW_SIZE])\n",
        "      if attacks is not None:\n",
        "        att_list.append(raw_df['attack'][t+WINDOW_SIZE])\n",
        "\n",
        "  stride_idxs = np.array(valid_idxs, dtype=np.int32)[::stride]\n",
        "\n",
        "  return np.array(X), np.array(Y), np.array(valid_idxs), np.array(att_list), np.array(ts_list)\n",
        "\n"
      ]
    },
    {
      "cell_type": "code",
      "execution_count": null,
      "metadata": {
        "colab": {
          "base_uri": "https://localhost:8080/",
          "height": 65,
          "referenced_widgets": [
            "ee60db1b39a3455280f003968c586921",
            "374252a5ca51412792d3ebec8fcf8dc2",
            "1842ca626b174b5985d9792b58f972d6",
            "7d0e4fb6adcb437a98cae5a4424874ac",
            "ccaa30e261c847e98eeb87f3928fdb72",
            "2d7cdeaafefa42598642849d92e635ec",
            "bea5459a3c0d4e4a9edf83d0a4498471",
            "d00fdcfd829e4d049f4b5bd148865c20"
          ]
        },
        "id": "VHwigHk9_RXM",
        "outputId": "8028ddce-1248-4a17-9358-7853b52f8086"
      },
      "outputs": [
        {
          "data": {
            "application/vnd.jupyter.widget-view+json": {
              "model_id": "ee60db1b39a3455280f003968c586921",
              "version_major": 2,
              "version_minor": 0
            },
            "text/plain": [
              "HBox(children=(FloatProgress(value=0.0, max=358714.0), HTML(value='')))"
            ]
          },
          "metadata": {
            "tags": []
          },
          "output_type": "display_data"
        },
        {
          "name": "stdout",
          "output_type": "stream",
          "text": [
            "\n"
          ]
        }
      ],
      "source": [
        "valid_X, valid_Y, valid_idxs, attack, ts = test_prepare(\n",
        "    TEST_DF_RAW[TIMESTAMP_FIELD], TEST_DF, TEST_DF_RAW\n",
        ")"
      ]
    },
    {
      "cell_type": "markdown",
      "metadata": {
        "id": "oIjGIy68_TPV"
      },
      "source": [
        "# inference 함수로 데이터를 순차적으로 보면서 모델이 예측한 값과 실제 값의 차를 구해서 기록합니다"
      ]
    },
    {
      "cell_type": "code",
      "execution_count": null,
      "metadata": {
        "id": "Vv3EwSRkGE6P"
      },
      "outputs": [],
      "source": [
        "def evaluate(X, Y):\n",
        "  pre_value = new_model.predict(valid_X)\n",
        "  dist = np.mean(abs(pre_value - Y), axis =1)\n",
        "\n",
        "  return dist"
      ]
    },
    {
      "cell_type": "code",
      "execution_count": null,
      "metadata": {
        "colab": {
          "base_uri": "https://localhost:8080/",
          "height": 160
        },
        "id": "HRN3WXBH_ReO",
        "outputId": "0e55e98a-b1d0-4d12-c624-3f31b8df5715"
      },
      "outputs": [
        {
          "ename": "NameError",
          "evalue": "ignored",
          "output_type": "error",
          "traceback": [
            "\u001b[0;31m---------------------------------------------------------------------------\u001b[0m",
            "\u001b[0;31mNameError\u001b[0m                                 Traceback (most recent call last)",
            "\u001b[0;32m<ipython-input-1-91d35bc06f88>\u001b[0m in \u001b[0;36m<module>\u001b[0;34m()\u001b[0m\n\u001b[0;32m----> 1\u001b[0;31m \u001b[0mpre_value\u001b[0m \u001b[0;34m=\u001b[0m \u001b[0mnew_model\u001b[0m\u001b[0;34m.\u001b[0m\u001b[0mpredict\u001b[0m\u001b[0;34m(\u001b[0m\u001b[0mvalid_X\u001b[0m\u001b[0;34m)\u001b[0m\u001b[0;34m\u001b[0m\u001b[0;34m\u001b[0m\u001b[0m\n\u001b[0m",
            "\u001b[0;31mNameError\u001b[0m: name 'new_model' is not defined"
          ]
        }
      ],
      "source": [
        "pre_value = new_model.predict(valid_X)"
      ]
    },
    {
      "cell_type": "code",
      "execution_count": null,
      "metadata": {
        "colab": {
          "base_uri": "https://localhost:8080/",
          "height": 160
        },
        "id": "0Y8JODLu_Rb7",
        "outputId": "4be2321b-3a4a-4d7f-d5e1-87823bf9a330"
      },
      "outputs": [
        {
          "ename": "NameError",
          "evalue": "ignored",
          "output_type": "error",
          "traceback": [
            "\u001b[0;31m---------------------------------------------------------------------------\u001b[0m",
            "\u001b[0;31mNameError\u001b[0m                                 Traceback (most recent call last)",
            "\u001b[0;32m<ipython-input-2-259699d7d38c>\u001b[0m in \u001b[0;36m<module>\u001b[0;34m()\u001b[0m\n\u001b[0;32m----> 1\u001b[0;31m \u001b[0mdist\u001b[0m\u001b[0;34m.\u001b[0m\u001b[0mshape\u001b[0m\u001b[0;34m\u001b[0m\u001b[0;34m\u001b[0m\u001b[0m\n\u001b[0m",
            "\u001b[0;31mNameError\u001b[0m: name 'dist' is not defined"
          ]
        }
      ],
      "source": [
        "dist.shape"
      ]
    },
    {
      "cell_type": "code",
      "execution_count": null,
      "metadata": {
        "id": "_q5UW_1L_RTU"
      },
      "outputs": [],
      "source": []
    }
  ],
  "metadata": {
    "accelerator": "GPU",
    "colab": {
      "collapsed_sections": [],
      "name": "transforming_TF2.ipynb",
      "provenance": []
    },
    "kernelspec": {
      "display_name": "Python 3",
      "name": "python3"
    },
    "widgets": {
      "application/vnd.jupyter.widget-state+json": {
        "01571727fa114702b4c44ca2e320988e": {
          "model_module": "@jupyter-widgets/base",
          "model_module_version": "1.2.0",
          "model_name": "LayoutModel",
          "state": {
            "_model_module": "@jupyter-widgets/base",
            "_model_module_version": "1.2.0",
            "_model_name": "LayoutModel",
            "_view_count": null,
            "_view_module": "@jupyter-widgets/base",
            "_view_module_version": "1.2.0",
            "_view_name": "LayoutView",
            "align_content": null,
            "align_items": null,
            "align_self": null,
            "border": null,
            "bottom": null,
            "display": null,
            "flex": null,
            "flex_flow": null,
            "grid_area": null,
            "grid_auto_columns": null,
            "grid_auto_flow": null,
            "grid_auto_rows": null,
            "grid_column": null,
            "grid_gap": null,
            "grid_row": null,
            "grid_template_areas": null,
            "grid_template_columns": null,
            "grid_template_rows": null,
            "height": null,
            "justify_content": null,
            "justify_items": null,
            "left": null,
            "margin": null,
            "max_height": null,
            "max_width": null,
            "min_height": null,
            "min_width": null,
            "object_fit": null,
            "object_position": null,
            "order": null,
            "overflow": null,
            "overflow_x": null,
            "overflow_y": null,
            "padding": null,
            "right": null,
            "top": null,
            "visibility": null,
            "width": null
          }
        },
        "03b3d7c16e2f4fd4934ccbe587dac147": {
          "model_module": "@jupyter-widgets/controls",
          "model_module_version": "1.5.0",
          "model_name": "HBoxModel",
          "state": {
            "_dom_classes": [],
            "_model_module": "@jupyter-widgets/controls",
            "_model_module_version": "1.5.0",
            "_model_name": "HBoxModel",
            "_view_count": null,
            "_view_module": "@jupyter-widgets/controls",
            "_view_module_version": "1.5.0",
            "_view_name": "HBoxView",
            "box_style": "",
            "children": [
              "IPY_MODEL_84766e5859bc4b4aa80e6f91b83f8eea",
              "IPY_MODEL_3cf458a907bf4d1eab00c6a3ce50b3b0",
              "IPY_MODEL_ade22f1ecb7640aaa7af023ab4fe1e21"
            ],
            "layout": "IPY_MODEL_a821f095e0644e78b05d095d87d53719"
          }
        },
        "06539de4839d406a875d929442cd7442": {
          "model_module": "@jupyter-widgets/base",
          "model_module_version": "1.2.0",
          "model_name": "LayoutModel",
          "state": {
            "_model_module": "@jupyter-widgets/base",
            "_model_module_version": "1.2.0",
            "_model_name": "LayoutModel",
            "_view_count": null,
            "_view_module": "@jupyter-widgets/base",
            "_view_module_version": "1.2.0",
            "_view_name": "LayoutView",
            "align_content": null,
            "align_items": null,
            "align_self": null,
            "border": null,
            "bottom": null,
            "display": null,
            "flex": null,
            "flex_flow": null,
            "grid_area": null,
            "grid_auto_columns": null,
            "grid_auto_flow": null,
            "grid_auto_rows": null,
            "grid_column": null,
            "grid_gap": null,
            "grid_row": null,
            "grid_template_areas": null,
            "grid_template_columns": null,
            "grid_template_rows": null,
            "height": null,
            "justify_content": null,
            "justify_items": null,
            "left": null,
            "margin": null,
            "max_height": null,
            "max_width": null,
            "min_height": null,
            "min_width": null,
            "object_fit": null,
            "object_position": null,
            "order": null,
            "overflow": null,
            "overflow_x": null,
            "overflow_y": null,
            "padding": null,
            "right": null,
            "top": null,
            "visibility": null,
            "width": null
          }
        },
        "06b037ab82ea4ad6a74c755eee7f3b42": {
          "model_module": "@jupyter-widgets/controls",
          "model_module_version": "1.5.0",
          "model_name": "DescriptionStyleModel",
          "state": {
            "_model_module": "@jupyter-widgets/controls",
            "_model_module_version": "1.5.0",
            "_model_name": "DescriptionStyleModel",
            "_view_count": null,
            "_view_module": "@jupyter-widgets/base",
            "_view_module_version": "1.2.0",
            "_view_name": "StyleView",
            "description_width": ""
          }
        },
        "1402121bac524305b623d677b953a691": {
          "model_module": "@jupyter-widgets/base",
          "model_module_version": "1.2.0",
          "model_name": "LayoutModel",
          "state": {
            "_model_module": "@jupyter-widgets/base",
            "_model_module_version": "1.2.0",
            "_model_name": "LayoutModel",
            "_view_count": null,
            "_view_module": "@jupyter-widgets/base",
            "_view_module_version": "1.2.0",
            "_view_name": "LayoutView",
            "align_content": null,
            "align_items": null,
            "align_self": null,
            "border": null,
            "bottom": null,
            "display": null,
            "flex": null,
            "flex_flow": null,
            "grid_area": null,
            "grid_auto_columns": null,
            "grid_auto_flow": null,
            "grid_auto_rows": null,
            "grid_column": null,
            "grid_gap": null,
            "grid_row": null,
            "grid_template_areas": null,
            "grid_template_columns": null,
            "grid_template_rows": null,
            "height": null,
            "justify_content": null,
            "justify_items": null,
            "left": null,
            "margin": null,
            "max_height": null,
            "max_width": null,
            "min_height": null,
            "min_width": null,
            "object_fit": null,
            "object_position": null,
            "order": null,
            "overflow": null,
            "overflow_x": null,
            "overflow_y": null,
            "padding": null,
            "right": null,
            "top": null,
            "visibility": null,
            "width": null
          }
        },
        "1588cb5158414b73a0439c98611fde51": {
          "model_module": "@jupyter-widgets/base",
          "model_module_version": "1.2.0",
          "model_name": "LayoutModel",
          "state": {
            "_model_module": "@jupyter-widgets/base",
            "_model_module_version": "1.2.0",
            "_model_name": "LayoutModel",
            "_view_count": null,
            "_view_module": "@jupyter-widgets/base",
            "_view_module_version": "1.2.0",
            "_view_name": "LayoutView",
            "align_content": null,
            "align_items": null,
            "align_self": null,
            "border": null,
            "bottom": null,
            "display": null,
            "flex": null,
            "flex_flow": null,
            "grid_area": null,
            "grid_auto_columns": null,
            "grid_auto_flow": null,
            "grid_auto_rows": null,
            "grid_column": null,
            "grid_gap": null,
            "grid_row": null,
            "grid_template_areas": null,
            "grid_template_columns": null,
            "grid_template_rows": null,
            "height": null,
            "justify_content": null,
            "justify_items": null,
            "left": null,
            "margin": null,
            "max_height": null,
            "max_width": null,
            "min_height": null,
            "min_width": null,
            "object_fit": null,
            "object_position": null,
            "order": null,
            "overflow": null,
            "overflow_x": null,
            "overflow_y": null,
            "padding": null,
            "right": null,
            "top": null,
            "visibility": null,
            "width": null
          }
        },
        "1842ca626b174b5985d9792b58f972d6": {
          "model_module": "@jupyter-widgets/controls",
          "model_module_version": "1.5.0",
          "model_name": "FloatProgressModel",
          "state": {
            "_dom_classes": [],
            "_model_module": "@jupyter-widgets/controls",
            "_model_module_version": "1.5.0",
            "_model_name": "FloatProgressModel",
            "_view_count": null,
            "_view_module": "@jupyter-widgets/controls",
            "_view_module_version": "1.5.0",
            "_view_name": "ProgressView",
            "bar_style": "success",
            "description": "100%",
            "description_tooltip": null,
            "layout": "IPY_MODEL_2d7cdeaafefa42598642849d92e635ec",
            "max": 358714,
            "min": 0,
            "orientation": "horizontal",
            "style": "IPY_MODEL_ccaa30e261c847e98eeb87f3928fdb72",
            "value": 358714
          }
        },
        "1a609a81f5fb41d29289f4b335e2eb63": {
          "model_module": "@jupyter-widgets/base",
          "model_module_version": "1.2.0",
          "model_name": "LayoutModel",
          "state": {
            "_model_module": "@jupyter-widgets/base",
            "_model_module_version": "1.2.0",
            "_model_name": "LayoutModel",
            "_view_count": null,
            "_view_module": "@jupyter-widgets/base",
            "_view_module_version": "1.2.0",
            "_view_name": "LayoutView",
            "align_content": null,
            "align_items": null,
            "align_self": null,
            "border": null,
            "bottom": null,
            "display": null,
            "flex": null,
            "flex_flow": null,
            "grid_area": null,
            "grid_auto_columns": null,
            "grid_auto_flow": null,
            "grid_auto_rows": null,
            "grid_column": null,
            "grid_gap": null,
            "grid_row": null,
            "grid_template_areas": null,
            "grid_template_columns": null,
            "grid_template_rows": null,
            "height": null,
            "justify_content": null,
            "justify_items": null,
            "left": null,
            "margin": null,
            "max_height": null,
            "max_width": null,
            "min_height": null,
            "min_width": null,
            "object_fit": null,
            "object_position": null,
            "order": null,
            "overflow": null,
            "overflow_x": null,
            "overflow_y": null,
            "padding": null,
            "right": null,
            "top": null,
            "visibility": null,
            "width": null
          }
        },
        "21963578c2144be4ba6be988fde26a13": {
          "model_module": "@jupyter-widgets/base",
          "model_module_version": "1.2.0",
          "model_name": "LayoutModel",
          "state": {
            "_model_module": "@jupyter-widgets/base",
            "_model_module_version": "1.2.0",
            "_model_name": "LayoutModel",
            "_view_count": null,
            "_view_module": "@jupyter-widgets/base",
            "_view_module_version": "1.2.0",
            "_view_name": "LayoutView",
            "align_content": null,
            "align_items": null,
            "align_self": null,
            "border": null,
            "bottom": null,
            "display": null,
            "flex": null,
            "flex_flow": null,
            "grid_area": null,
            "grid_auto_columns": null,
            "grid_auto_flow": null,
            "grid_auto_rows": null,
            "grid_column": null,
            "grid_gap": null,
            "grid_row": null,
            "grid_template_areas": null,
            "grid_template_columns": null,
            "grid_template_rows": null,
            "height": null,
            "justify_content": null,
            "justify_items": null,
            "left": null,
            "margin": null,
            "max_height": null,
            "max_width": null,
            "min_height": null,
            "min_width": null,
            "object_fit": null,
            "object_position": null,
            "order": null,
            "overflow": null,
            "overflow_x": null,
            "overflow_y": null,
            "padding": null,
            "right": null,
            "top": null,
            "visibility": null,
            "width": null
          }
        },
        "2817ed9b8f23437e9df504fc5865a19b": {
          "model_module": "@jupyter-widgets/controls",
          "model_module_version": "1.5.0",
          "model_name": "HTMLModel",
          "state": {
            "_dom_classes": [],
            "_model_module": "@jupyter-widgets/controls",
            "_model_module_version": "1.5.0",
            "_model_name": "HTMLModel",
            "_view_count": null,
            "_view_module": "@jupyter-widgets/controls",
            "_view_module_version": "1.5.0",
            "_view_name": "HTMLView",
            "description": "",
            "description_tooltip": null,
            "layout": "IPY_MODEL_21963578c2144be4ba6be988fde26a13",
            "placeholder": "​",
            "style": "IPY_MODEL_82bce84bea97488ea0eb4ff54a782244",
            "value": "  0%"
          }
        },
        "2d7cdeaafefa42598642849d92e635ec": {
          "model_module": "@jupyter-widgets/base",
          "model_module_version": "1.2.0",
          "model_name": "LayoutModel",
          "state": {
            "_model_module": "@jupyter-widgets/base",
            "_model_module_version": "1.2.0",
            "_model_name": "LayoutModel",
            "_view_count": null,
            "_view_module": "@jupyter-widgets/base",
            "_view_module_version": "1.2.0",
            "_view_name": "LayoutView",
            "align_content": null,
            "align_items": null,
            "align_self": null,
            "border": null,
            "bottom": null,
            "display": null,
            "flex": null,
            "flex_flow": null,
            "grid_area": null,
            "grid_auto_columns": null,
            "grid_auto_flow": null,
            "grid_auto_rows": null,
            "grid_column": null,
            "grid_gap": null,
            "grid_row": null,
            "grid_template_areas": null,
            "grid_template_columns": null,
            "grid_template_rows": null,
            "height": null,
            "justify_content": null,
            "justify_items": null,
            "left": null,
            "margin": null,
            "max_height": null,
            "max_width": null,
            "min_height": null,
            "min_width": null,
            "object_fit": null,
            "object_position": null,
            "order": null,
            "overflow": null,
            "overflow_x": null,
            "overflow_y": null,
            "padding": null,
            "right": null,
            "top": null,
            "visibility": null,
            "width": null
          }
        },
        "2ea0dde759a740a2af7f2912f7001668": {
          "model_module": "@jupyter-widgets/controls",
          "model_module_version": "1.5.0",
          "model_name": "ProgressStyleModel",
          "state": {
            "_model_module": "@jupyter-widgets/controls",
            "_model_module_version": "1.5.0",
            "_model_name": "ProgressStyleModel",
            "_view_count": null,
            "_view_module": "@jupyter-widgets/base",
            "_view_module_version": "1.2.0",
            "_view_name": "StyleView",
            "bar_color": null,
            "description_width": ""
          }
        },
        "31a2ae5de7fc42d2ac5ec0dc5d714434": {
          "model_module": "@jupyter-widgets/controls",
          "model_module_version": "1.5.0",
          "model_name": "DescriptionStyleModel",
          "state": {
            "_model_module": "@jupyter-widgets/controls",
            "_model_module_version": "1.5.0",
            "_model_name": "DescriptionStyleModel",
            "_view_count": null,
            "_view_module": "@jupyter-widgets/base",
            "_view_module_version": "1.2.0",
            "_view_name": "StyleView",
            "description_width": ""
          }
        },
        "36137003b20f48f886623cbe40799b76": {
          "model_module": "@jupyter-widgets/controls",
          "model_module_version": "1.5.0",
          "model_name": "FloatProgressModel",
          "state": {
            "_dom_classes": [],
            "_model_module": "@jupyter-widgets/controls",
            "_model_module_version": "1.5.0",
            "_model_name": "FloatProgressModel",
            "_view_count": null,
            "_view_module": "@jupyter-widgets/controls",
            "_view_module_version": "1.5.0",
            "_view_name": "ProgressView",
            "bar_style": "success",
            "description": "",
            "description_tooltip": null,
            "layout": "IPY_MODEL_ec06c247115f440abe8952d7a3280f58",
            "max": 921514,
            "min": 0,
            "orientation": "horizontal",
            "style": "IPY_MODEL_a33eddf4b79a473fbedc30e476623add",
            "value": 921514
          }
        },
        "374252a5ca51412792d3ebec8fcf8dc2": {
          "model_module": "@jupyter-widgets/base",
          "model_module_version": "1.2.0",
          "model_name": "LayoutModel",
          "state": {
            "_model_module": "@jupyter-widgets/base",
            "_model_module_version": "1.2.0",
            "_model_name": "LayoutModel",
            "_view_count": null,
            "_view_module": "@jupyter-widgets/base",
            "_view_module_version": "1.2.0",
            "_view_name": "LayoutView",
            "align_content": null,
            "align_items": null,
            "align_self": null,
            "border": null,
            "bottom": null,
            "display": null,
            "flex": null,
            "flex_flow": null,
            "grid_area": null,
            "grid_auto_columns": null,
            "grid_auto_flow": null,
            "grid_auto_rows": null,
            "grid_column": null,
            "grid_gap": null,
            "grid_row": null,
            "grid_template_areas": null,
            "grid_template_columns": null,
            "grid_template_rows": null,
            "height": null,
            "justify_content": null,
            "justify_items": null,
            "left": null,
            "margin": null,
            "max_height": null,
            "max_width": null,
            "min_height": null,
            "min_width": null,
            "object_fit": null,
            "object_position": null,
            "order": null,
            "overflow": null,
            "overflow_x": null,
            "overflow_y": null,
            "padding": null,
            "right": null,
            "top": null,
            "visibility": null,
            "width": null
          }
        },
        "3a367ccad1e14ed8894fe25e54cce73f": {
          "model_module": "@jupyter-widgets/controls",
          "model_module_version": "1.5.0",
          "model_name": "DescriptionStyleModel",
          "state": {
            "_model_module": "@jupyter-widgets/controls",
            "_model_module_version": "1.5.0",
            "_model_name": "DescriptionStyleModel",
            "_view_count": null,
            "_view_module": "@jupyter-widgets/base",
            "_view_module_version": "1.2.0",
            "_view_name": "StyleView",
            "description_width": ""
          }
        },
        "3cf458a907bf4d1eab00c6a3ce50b3b0": {
          "model_module": "@jupyter-widgets/controls",
          "model_module_version": "1.5.0",
          "model_name": "FloatProgressModel",
          "state": {
            "_dom_classes": [],
            "_model_module": "@jupyter-widgets/controls",
            "_model_module_version": "1.5.0",
            "_model_name": "FloatProgressModel",
            "_view_count": null,
            "_view_module": "@jupyter-widgets/controls",
            "_view_module_version": "1.5.0",
            "_view_name": "ProgressView",
            "bar_style": "success",
            "description": "",
            "description_tooltip": null,
            "layout": "IPY_MODEL_568687616ff84bf8a86142013e87b57f",
            "max": 92125,
            "min": 0,
            "orientation": "horizontal",
            "style": "IPY_MODEL_594ba7d1070847f5bf6fc35f4b0b4af0",
            "value": 92125
          }
        },
        "4003b3ba251e4de3b4ed2584eb6f0b91": {
          "model_module": "@jupyter-widgets/controls",
          "model_module_version": "1.5.0",
          "model_name": "HBoxModel",
          "state": {
            "_dom_classes": [],
            "_model_module": "@jupyter-widgets/controls",
            "_model_module_version": "1.5.0",
            "_model_name": "HBoxModel",
            "_view_count": null,
            "_view_module": "@jupyter-widgets/controls",
            "_view_module_version": "1.5.0",
            "_view_name": "HBoxView",
            "box_style": "",
            "children": [
              "IPY_MODEL_2817ed9b8f23437e9df504fc5865a19b",
              "IPY_MODEL_a625a7e98ba849898c7cd0045af90bc7",
              "IPY_MODEL_83710bed10f84e049a3d1fffaad942de"
            ],
            "layout": "IPY_MODEL_1a609a81f5fb41d29289f4b335e2eb63"
          }
        },
        "4e7a37cc9a56487ab2611e0e3c07a469": {
          "model_module": "@jupyter-widgets/controls",
          "model_module_version": "1.5.0",
          "model_name": "DescriptionStyleModel",
          "state": {
            "_model_module": "@jupyter-widgets/controls",
            "_model_module_version": "1.5.0",
            "_model_name": "DescriptionStyleModel",
            "_view_count": null,
            "_view_module": "@jupyter-widgets/base",
            "_view_module_version": "1.2.0",
            "_view_name": "StyleView",
            "description_width": ""
          }
        },
        "4e9398b25cab495d9907adddf5af1128": {
          "model_module": "@jupyter-widgets/base",
          "model_module_version": "1.2.0",
          "model_name": "LayoutModel",
          "state": {
            "_model_module": "@jupyter-widgets/base",
            "_model_module_version": "1.2.0",
            "_model_name": "LayoutModel",
            "_view_count": null,
            "_view_module": "@jupyter-widgets/base",
            "_view_module_version": "1.2.0",
            "_view_name": "LayoutView",
            "align_content": null,
            "align_items": null,
            "align_self": null,
            "border": null,
            "bottom": null,
            "display": null,
            "flex": null,
            "flex_flow": null,
            "grid_area": null,
            "grid_auto_columns": null,
            "grid_auto_flow": null,
            "grid_auto_rows": null,
            "grid_column": null,
            "grid_gap": null,
            "grid_row": null,
            "grid_template_areas": null,
            "grid_template_columns": null,
            "grid_template_rows": null,
            "height": null,
            "justify_content": null,
            "justify_items": null,
            "left": null,
            "margin": null,
            "max_height": null,
            "max_width": null,
            "min_height": null,
            "min_width": null,
            "object_fit": null,
            "object_position": null,
            "order": null,
            "overflow": null,
            "overflow_x": null,
            "overflow_y": null,
            "padding": null,
            "right": null,
            "top": null,
            "visibility": null,
            "width": null
          }
        },
        "4fa9de02a0734e74b27608ebdeaf642f": {
          "model_module": "@jupyter-widgets/base",
          "model_module_version": "1.2.0",
          "model_name": "LayoutModel",
          "state": {
            "_model_module": "@jupyter-widgets/base",
            "_model_module_version": "1.2.0",
            "_model_name": "LayoutModel",
            "_view_count": null,
            "_view_module": "@jupyter-widgets/base",
            "_view_module_version": "1.2.0",
            "_view_name": "LayoutView",
            "align_content": null,
            "align_items": null,
            "align_self": null,
            "border": null,
            "bottom": null,
            "display": null,
            "flex": null,
            "flex_flow": null,
            "grid_area": null,
            "grid_auto_columns": null,
            "grid_auto_flow": null,
            "grid_auto_rows": null,
            "grid_column": null,
            "grid_gap": null,
            "grid_row": null,
            "grid_template_areas": null,
            "grid_template_columns": null,
            "grid_template_rows": null,
            "height": null,
            "justify_content": null,
            "justify_items": null,
            "left": null,
            "margin": null,
            "max_height": null,
            "max_width": null,
            "min_height": null,
            "min_width": null,
            "object_fit": null,
            "object_position": null,
            "order": null,
            "overflow": null,
            "overflow_x": null,
            "overflow_y": null,
            "padding": null,
            "right": null,
            "top": null,
            "visibility": null,
            "width": null
          }
        },
        "52b902f069b14a50ab60bd974a0359c8": {
          "model_module": "@jupyter-widgets/controls",
          "model_module_version": "1.5.0",
          "model_name": "ProgressStyleModel",
          "state": {
            "_model_module": "@jupyter-widgets/controls",
            "_model_module_version": "1.5.0",
            "_model_name": "ProgressStyleModel",
            "_view_count": null,
            "_view_module": "@jupyter-widgets/base",
            "_view_module_version": "1.2.0",
            "_view_name": "StyleView",
            "bar_color": null,
            "description_width": ""
          }
        },
        "568687616ff84bf8a86142013e87b57f": {
          "model_module": "@jupyter-widgets/base",
          "model_module_version": "1.2.0",
          "model_name": "LayoutModel",
          "state": {
            "_model_module": "@jupyter-widgets/base",
            "_model_module_version": "1.2.0",
            "_model_name": "LayoutModel",
            "_view_count": null,
            "_view_module": "@jupyter-widgets/base",
            "_view_module_version": "1.2.0",
            "_view_name": "LayoutView",
            "align_content": null,
            "align_items": null,
            "align_self": null,
            "border": null,
            "bottom": null,
            "display": null,
            "flex": null,
            "flex_flow": null,
            "grid_area": null,
            "grid_auto_columns": null,
            "grid_auto_flow": null,
            "grid_auto_rows": null,
            "grid_column": null,
            "grid_gap": null,
            "grid_row": null,
            "grid_template_areas": null,
            "grid_template_columns": null,
            "grid_template_rows": null,
            "height": null,
            "justify_content": null,
            "justify_items": null,
            "left": null,
            "margin": null,
            "max_height": null,
            "max_width": null,
            "min_height": null,
            "min_width": null,
            "object_fit": null,
            "object_position": null,
            "order": null,
            "overflow": null,
            "overflow_x": null,
            "overflow_y": null,
            "padding": null,
            "right": null,
            "top": null,
            "visibility": null,
            "width": null
          }
        },
        "58883d3208bc413ab2201a03e0d25706": {
          "model_module": "@jupyter-widgets/controls",
          "model_module_version": "1.5.0",
          "model_name": "HBoxModel",
          "state": {
            "_dom_classes": [],
            "_model_module": "@jupyter-widgets/controls",
            "_model_module_version": "1.5.0",
            "_model_name": "HBoxModel",
            "_view_count": null,
            "_view_module": "@jupyter-widgets/controls",
            "_view_module_version": "1.5.0",
            "_view_name": "HBoxView",
            "box_style": "",
            "children": [
              "IPY_MODEL_b64a87b1509e44609a1992b0e307edc6",
              "IPY_MODEL_36137003b20f48f886623cbe40799b76",
              "IPY_MODEL_6f27797e7a1c4e79817343ed4e825a02"
            ],
            "layout": "IPY_MODEL_01571727fa114702b4c44ca2e320988e"
          }
        },
        "594ba7d1070847f5bf6fc35f4b0b4af0": {
          "model_module": "@jupyter-widgets/controls",
          "model_module_version": "1.5.0",
          "model_name": "ProgressStyleModel",
          "state": {
            "_model_module": "@jupyter-widgets/controls",
            "_model_module_version": "1.5.0",
            "_model_name": "ProgressStyleModel",
            "_view_count": null,
            "_view_module": "@jupyter-widgets/base",
            "_view_module_version": "1.2.0",
            "_view_name": "StyleView",
            "bar_color": null,
            "description_width": ""
          }
        },
        "5af2f1cad93c4598bb427c6b55cf6cf2": {
          "model_module": "@jupyter-widgets/base",
          "model_module_version": "1.2.0",
          "model_name": "LayoutModel",
          "state": {
            "_model_module": "@jupyter-widgets/base",
            "_model_module_version": "1.2.0",
            "_model_name": "LayoutModel",
            "_view_count": null,
            "_view_module": "@jupyter-widgets/base",
            "_view_module_version": "1.2.0",
            "_view_name": "LayoutView",
            "align_content": null,
            "align_items": null,
            "align_self": null,
            "border": null,
            "bottom": null,
            "display": null,
            "flex": null,
            "flex_flow": null,
            "grid_area": null,
            "grid_auto_columns": null,
            "grid_auto_flow": null,
            "grid_auto_rows": null,
            "grid_column": null,
            "grid_gap": null,
            "grid_row": null,
            "grid_template_areas": null,
            "grid_template_columns": null,
            "grid_template_rows": null,
            "height": null,
            "justify_content": null,
            "justify_items": null,
            "left": null,
            "margin": null,
            "max_height": null,
            "max_width": null,
            "min_height": null,
            "min_width": null,
            "object_fit": null,
            "object_position": null,
            "order": null,
            "overflow": null,
            "overflow_x": null,
            "overflow_y": null,
            "padding": null,
            "right": null,
            "top": null,
            "visibility": null,
            "width": null
          }
        },
        "5ca500d9c4804e209cd29fb691ea24e5": {
          "model_module": "@jupyter-widgets/base",
          "model_module_version": "1.2.0",
          "model_name": "LayoutModel",
          "state": {
            "_model_module": "@jupyter-widgets/base",
            "_model_module_version": "1.2.0",
            "_model_name": "LayoutModel",
            "_view_count": null,
            "_view_module": "@jupyter-widgets/base",
            "_view_module_version": "1.2.0",
            "_view_name": "LayoutView",
            "align_content": null,
            "align_items": null,
            "align_self": null,
            "border": null,
            "bottom": null,
            "display": null,
            "flex": null,
            "flex_flow": null,
            "grid_area": null,
            "grid_auto_columns": null,
            "grid_auto_flow": null,
            "grid_auto_rows": null,
            "grid_column": null,
            "grid_gap": null,
            "grid_row": null,
            "grid_template_areas": null,
            "grid_template_columns": null,
            "grid_template_rows": null,
            "height": null,
            "justify_content": null,
            "justify_items": null,
            "left": null,
            "margin": null,
            "max_height": null,
            "max_width": null,
            "min_height": null,
            "min_width": null,
            "object_fit": null,
            "object_position": null,
            "order": null,
            "overflow": null,
            "overflow_x": null,
            "overflow_y": null,
            "padding": null,
            "right": null,
            "top": null,
            "visibility": null,
            "width": null
          }
        },
        "5f78a7429d0d4d0fabb5a4c1809fc749": {
          "model_module": "@jupyter-widgets/controls",
          "model_module_version": "1.5.0",
          "model_name": "DescriptionStyleModel",
          "state": {
            "_model_module": "@jupyter-widgets/controls",
            "_model_module_version": "1.5.0",
            "_model_name": "DescriptionStyleModel",
            "_view_count": null,
            "_view_module": "@jupyter-widgets/base",
            "_view_module_version": "1.2.0",
            "_view_name": "StyleView",
            "description_width": ""
          }
        },
        "6211daf4430c454eb6838a9768cc6615": {
          "model_module": "@jupyter-widgets/base",
          "model_module_version": "1.2.0",
          "model_name": "LayoutModel",
          "state": {
            "_model_module": "@jupyter-widgets/base",
            "_model_module_version": "1.2.0",
            "_model_name": "LayoutModel",
            "_view_count": null,
            "_view_module": "@jupyter-widgets/base",
            "_view_module_version": "1.2.0",
            "_view_name": "LayoutView",
            "align_content": null,
            "align_items": null,
            "align_self": null,
            "border": null,
            "bottom": null,
            "display": null,
            "flex": null,
            "flex_flow": null,
            "grid_area": null,
            "grid_auto_columns": null,
            "grid_auto_flow": null,
            "grid_auto_rows": null,
            "grid_column": null,
            "grid_gap": null,
            "grid_row": null,
            "grid_template_areas": null,
            "grid_template_columns": null,
            "grid_template_rows": null,
            "height": null,
            "justify_content": null,
            "justify_items": null,
            "left": null,
            "margin": null,
            "max_height": null,
            "max_width": null,
            "min_height": null,
            "min_width": null,
            "object_fit": null,
            "object_position": null,
            "order": null,
            "overflow": null,
            "overflow_x": null,
            "overflow_y": null,
            "padding": null,
            "right": null,
            "top": null,
            "visibility": null,
            "width": null
          }
        },
        "6e5804b365bb435f81cb5a55964d58bb": {
          "model_module": "@jupyter-widgets/base",
          "model_module_version": "1.2.0",
          "model_name": "LayoutModel",
          "state": {
            "_model_module": "@jupyter-widgets/base",
            "_model_module_version": "1.2.0",
            "_model_name": "LayoutModel",
            "_view_count": null,
            "_view_module": "@jupyter-widgets/base",
            "_view_module_version": "1.2.0",
            "_view_name": "LayoutView",
            "align_content": null,
            "align_items": null,
            "align_self": null,
            "border": null,
            "bottom": null,
            "display": null,
            "flex": null,
            "flex_flow": null,
            "grid_area": null,
            "grid_auto_columns": null,
            "grid_auto_flow": null,
            "grid_auto_rows": null,
            "grid_column": null,
            "grid_gap": null,
            "grid_row": null,
            "grid_template_areas": null,
            "grid_template_columns": null,
            "grid_template_rows": null,
            "height": null,
            "justify_content": null,
            "justify_items": null,
            "left": null,
            "margin": null,
            "max_height": null,
            "max_width": null,
            "min_height": null,
            "min_width": null,
            "object_fit": null,
            "object_position": null,
            "order": null,
            "overflow": null,
            "overflow_x": null,
            "overflow_y": null,
            "padding": null,
            "right": null,
            "top": null,
            "visibility": null,
            "width": null
          }
        },
        "6f27797e7a1c4e79817343ed4e825a02": {
          "model_module": "@jupyter-widgets/controls",
          "model_module_version": "1.5.0",
          "model_name": "HTMLModel",
          "state": {
            "_dom_classes": [],
            "_model_module": "@jupyter-widgets/controls",
            "_model_module_version": "1.5.0",
            "_model_name": "HTMLModel",
            "_view_count": null,
            "_view_module": "@jupyter-widgets/controls",
            "_view_module_version": "1.5.0",
            "_view_name": "HTMLView",
            "description": "",
            "description_tooltip": null,
            "layout": "IPY_MODEL_6e5804b365bb435f81cb5a55964d58bb",
            "placeholder": "​",
            "style": "IPY_MODEL_31a2ae5de7fc42d2ac5ec0dc5d714434",
            "value": " 921514/921514 [03:16&lt;00:00, 5058.30it/s]"
          }
        },
        "7d0e4fb6adcb437a98cae5a4424874ac": {
          "model_module": "@jupyter-widgets/controls",
          "model_module_version": "1.5.0",
          "model_name": "HTMLModel",
          "state": {
            "_dom_classes": [],
            "_model_module": "@jupyter-widgets/controls",
            "_model_module_version": "1.5.0",
            "_model_name": "HTMLModel",
            "_view_count": null,
            "_view_module": "@jupyter-widgets/controls",
            "_view_module_version": "1.5.0",
            "_view_name": "HTMLView",
            "description": "",
            "description_tooltip": null,
            "layout": "IPY_MODEL_d00fdcfd829e4d049f4b5bd148865c20",
            "placeholder": "​",
            "style": "IPY_MODEL_bea5459a3c0d4e4a9edf83d0a4498471",
            "value": " 358714/358714 [00:00&lt;00:00, 660613.38it/s]"
          }
        },
        "8017f2232e1846d1b60417165264473f": {
          "model_module": "@jupyter-widgets/controls",
          "model_module_version": "1.5.0",
          "model_name": "DescriptionStyleModel",
          "state": {
            "_model_module": "@jupyter-widgets/controls",
            "_model_module_version": "1.5.0",
            "_model_name": "DescriptionStyleModel",
            "_view_count": null,
            "_view_module": "@jupyter-widgets/base",
            "_view_module_version": "1.2.0",
            "_view_name": "StyleView",
            "description_width": ""
          }
        },
        "82bce84bea97488ea0eb4ff54a782244": {
          "model_module": "@jupyter-widgets/controls",
          "model_module_version": "1.5.0",
          "model_name": "DescriptionStyleModel",
          "state": {
            "_model_module": "@jupyter-widgets/controls",
            "_model_module_version": "1.5.0",
            "_model_name": "DescriptionStyleModel",
            "_view_count": null,
            "_view_module": "@jupyter-widgets/base",
            "_view_module_version": "1.2.0",
            "_view_name": "StyleView",
            "description_width": ""
          }
        },
        "83710bed10f84e049a3d1fffaad942de": {
          "model_module": "@jupyter-widgets/controls",
          "model_module_version": "1.5.0",
          "model_name": "HTMLModel",
          "state": {
            "_dom_classes": [],
            "_model_module": "@jupyter-widgets/controls",
            "_model_module_version": "1.5.0",
            "_model_name": "HTMLModel",
            "_view_count": null,
            "_view_module": "@jupyter-widgets/controls",
            "_view_module_version": "1.5.0",
            "_view_name": "HTMLView",
            "description": "",
            "description_tooltip": null,
            "layout": "IPY_MODEL_fa4ffa1858ac4d318b9c7f23a76b34f7",
            "placeholder": "​",
            "style": "IPY_MODEL_4e7a37cc9a56487ab2611e0e3c07a469",
            "value": " 0/92107 [00:00&lt;?, ?it/s]"
          }
        },
        "84766e5859bc4b4aa80e6f91b83f8eea": {
          "model_module": "@jupyter-widgets/controls",
          "model_module_version": "1.5.0",
          "model_name": "HTMLModel",
          "state": {
            "_dom_classes": [],
            "_model_module": "@jupyter-widgets/controls",
            "_model_module_version": "1.5.0",
            "_model_name": "HTMLModel",
            "_view_count": null,
            "_view_module": "@jupyter-widgets/controls",
            "_view_module_version": "1.5.0",
            "_view_name": "HTMLView",
            "description": "",
            "description_tooltip": null,
            "layout": "IPY_MODEL_8546f4dcbd7b49a3a2099d6f09783eff",
            "placeholder": "​",
            "style": "IPY_MODEL_3a367ccad1e14ed8894fe25e54cce73f",
            "value": "100%"
          }
        },
        "8546f4dcbd7b49a3a2099d6f09783eff": {
          "model_module": "@jupyter-widgets/base",
          "model_module_version": "1.2.0",
          "model_name": "LayoutModel",
          "state": {
            "_model_module": "@jupyter-widgets/base",
            "_model_module_version": "1.2.0",
            "_model_name": "LayoutModel",
            "_view_count": null,
            "_view_module": "@jupyter-widgets/base",
            "_view_module_version": "1.2.0",
            "_view_name": "LayoutView",
            "align_content": null,
            "align_items": null,
            "align_self": null,
            "border": null,
            "bottom": null,
            "display": null,
            "flex": null,
            "flex_flow": null,
            "grid_area": null,
            "grid_auto_columns": null,
            "grid_auto_flow": null,
            "grid_auto_rows": null,
            "grid_column": null,
            "grid_gap": null,
            "grid_row": null,
            "grid_template_areas": null,
            "grid_template_columns": null,
            "grid_template_rows": null,
            "height": null,
            "justify_content": null,
            "justify_items": null,
            "left": null,
            "margin": null,
            "max_height": null,
            "max_width": null,
            "min_height": null,
            "min_width": null,
            "object_fit": null,
            "object_position": null,
            "order": null,
            "overflow": null,
            "overflow_x": null,
            "overflow_y": null,
            "padding": null,
            "right": null,
            "top": null,
            "visibility": null,
            "width": null
          }
        },
        "8faf82748fdc4edd8a9cb178ad5fc43d": {
          "model_module": "@jupyter-widgets/controls",
          "model_module_version": "1.5.0",
          "model_name": "FloatProgressModel",
          "state": {
            "_dom_classes": [],
            "_model_module": "@jupyter-widgets/controls",
            "_model_module_version": "1.5.0",
            "_model_name": "FloatProgressModel",
            "_view_count": null,
            "_view_module": "@jupyter-widgets/controls",
            "_view_module_version": "1.5.0",
            "_view_name": "ProgressView",
            "bar_style": "success",
            "description": "",
            "description_tooltip": null,
            "layout": "IPY_MODEL_4fa9de02a0734e74b27608ebdeaf642f",
            "max": 43111,
            "min": 0,
            "orientation": "horizontal",
            "style": "IPY_MODEL_52b902f069b14a50ab60bd974a0359c8",
            "value": 43111
          }
        },
        "91030591596c4ea3982d9e211aa7f574": {
          "model_module": "@jupyter-widgets/base",
          "model_module_version": "1.2.0",
          "model_name": "LayoutModel",
          "state": {
            "_model_module": "@jupyter-widgets/base",
            "_model_module_version": "1.2.0",
            "_model_name": "LayoutModel",
            "_view_count": null,
            "_view_module": "@jupyter-widgets/base",
            "_view_module_version": "1.2.0",
            "_view_name": "LayoutView",
            "align_content": null,
            "align_items": null,
            "align_self": null,
            "border": null,
            "bottom": null,
            "display": null,
            "flex": null,
            "flex_flow": null,
            "grid_area": null,
            "grid_auto_columns": null,
            "grid_auto_flow": null,
            "grid_auto_rows": null,
            "grid_column": null,
            "grid_gap": null,
            "grid_row": null,
            "grid_template_areas": null,
            "grid_template_columns": null,
            "grid_template_rows": null,
            "height": null,
            "justify_content": null,
            "justify_items": null,
            "left": null,
            "margin": null,
            "max_height": null,
            "max_width": null,
            "min_height": null,
            "min_width": null,
            "object_fit": null,
            "object_position": null,
            "order": null,
            "overflow": null,
            "overflow_x": null,
            "overflow_y": null,
            "padding": null,
            "right": null,
            "top": null,
            "visibility": null,
            "width": null
          }
        },
        "9b1f7fd8c7cb49a792e48e14ee75f103": {
          "model_module": "@jupyter-widgets/controls",
          "model_module_version": "1.5.0",
          "model_name": "HTMLModel",
          "state": {
            "_dom_classes": [],
            "_model_module": "@jupyter-widgets/controls",
            "_model_module_version": "1.5.0",
            "_model_name": "HTMLModel",
            "_view_count": null,
            "_view_module": "@jupyter-widgets/controls",
            "_view_module_version": "1.5.0",
            "_view_name": "HTMLView",
            "description": "",
            "description_tooltip": null,
            "layout": "IPY_MODEL_acf9200ca58244d1bf97ec412f41dd68",
            "placeholder": "​",
            "style": "IPY_MODEL_06b037ab82ea4ad6a74c755eee7f3b42",
            "value": "100%"
          }
        },
        "9dcaeef046464d938c1ec1710e8c5881": {
          "model_module": "@jupyter-widgets/controls",
          "model_module_version": "1.5.0",
          "model_name": "HBoxModel",
          "state": {
            "_dom_classes": [],
            "_model_module": "@jupyter-widgets/controls",
            "_model_module_version": "1.5.0",
            "_model_name": "HBoxModel",
            "_view_count": null,
            "_view_module": "@jupyter-widgets/controls",
            "_view_module_version": "1.5.0",
            "_view_name": "HBoxView",
            "box_style": "",
            "children": [
              "IPY_MODEL_9b1f7fd8c7cb49a792e48e14ee75f103",
              "IPY_MODEL_8faf82748fdc4edd8a9cb178ad5fc43d",
              "IPY_MODEL_b04d506e42f240e3969a6596a2d139a7"
            ],
            "layout": "IPY_MODEL_5af2f1cad93c4598bb427c6b55cf6cf2"
          }
        },
        "9ead1146fdbe430b808c82201e29d3d6": {
          "model_module": "@jupyter-widgets/controls",
          "model_module_version": "1.5.0",
          "model_name": "DescriptionStyleModel",
          "state": {
            "_model_module": "@jupyter-widgets/controls",
            "_model_module_version": "1.5.0",
            "_model_name": "DescriptionStyleModel",
            "_view_count": null,
            "_view_module": "@jupyter-widgets/base",
            "_view_module_version": "1.2.0",
            "_view_name": "StyleView",
            "description_width": ""
          }
        },
        "a33eddf4b79a473fbedc30e476623add": {
          "model_module": "@jupyter-widgets/controls",
          "model_module_version": "1.5.0",
          "model_name": "ProgressStyleModel",
          "state": {
            "_model_module": "@jupyter-widgets/controls",
            "_model_module_version": "1.5.0",
            "_model_name": "ProgressStyleModel",
            "_view_count": null,
            "_view_module": "@jupyter-widgets/base",
            "_view_module_version": "1.2.0",
            "_view_name": "StyleView",
            "bar_color": null,
            "description_width": ""
          }
        },
        "a625a7e98ba849898c7cd0045af90bc7": {
          "model_module": "@jupyter-widgets/controls",
          "model_module_version": "1.5.0",
          "model_name": "FloatProgressModel",
          "state": {
            "_dom_classes": [],
            "_model_module": "@jupyter-widgets/controls",
            "_model_module_version": "1.5.0",
            "_model_name": "FloatProgressModel",
            "_view_count": null,
            "_view_module": "@jupyter-widgets/controls",
            "_view_module_version": "1.5.0",
            "_view_name": "ProgressView",
            "bar_style": "danger",
            "description": "",
            "description_tooltip": null,
            "layout": "IPY_MODEL_5ca500d9c4804e209cd29fb691ea24e5",
            "max": 92107,
            "min": 0,
            "orientation": "horizontal",
            "style": "IPY_MODEL_2ea0dde759a740a2af7f2912f7001668",
            "value": 0
          }
        },
        "a821f095e0644e78b05d095d87d53719": {
          "model_module": "@jupyter-widgets/base",
          "model_module_version": "1.2.0",
          "model_name": "LayoutModel",
          "state": {
            "_model_module": "@jupyter-widgets/base",
            "_model_module_version": "1.2.0",
            "_model_name": "LayoutModel",
            "_view_count": null,
            "_view_module": "@jupyter-widgets/base",
            "_view_module_version": "1.2.0",
            "_view_name": "LayoutView",
            "align_content": null,
            "align_items": null,
            "align_self": null,
            "border": null,
            "bottom": null,
            "display": null,
            "flex": null,
            "flex_flow": null,
            "grid_area": null,
            "grid_auto_columns": null,
            "grid_auto_flow": null,
            "grid_auto_rows": null,
            "grid_column": null,
            "grid_gap": null,
            "grid_row": null,
            "grid_template_areas": null,
            "grid_template_columns": null,
            "grid_template_rows": null,
            "height": null,
            "justify_content": null,
            "justify_items": null,
            "left": null,
            "margin": null,
            "max_height": null,
            "max_width": null,
            "min_height": null,
            "min_width": null,
            "object_fit": null,
            "object_position": null,
            "order": null,
            "overflow": null,
            "overflow_x": null,
            "overflow_y": null,
            "padding": null,
            "right": null,
            "top": null,
            "visibility": null,
            "width": null
          }
        },
        "acf9200ca58244d1bf97ec412f41dd68": {
          "model_module": "@jupyter-widgets/base",
          "model_module_version": "1.2.0",
          "model_name": "LayoutModel",
          "state": {
            "_model_module": "@jupyter-widgets/base",
            "_model_module_version": "1.2.0",
            "_model_name": "LayoutModel",
            "_view_count": null,
            "_view_module": "@jupyter-widgets/base",
            "_view_module_version": "1.2.0",
            "_view_name": "LayoutView",
            "align_content": null,
            "align_items": null,
            "align_self": null,
            "border": null,
            "bottom": null,
            "display": null,
            "flex": null,
            "flex_flow": null,
            "grid_area": null,
            "grid_auto_columns": null,
            "grid_auto_flow": null,
            "grid_auto_rows": null,
            "grid_column": null,
            "grid_gap": null,
            "grid_row": null,
            "grid_template_areas": null,
            "grid_template_columns": null,
            "grid_template_rows": null,
            "height": null,
            "justify_content": null,
            "justify_items": null,
            "left": null,
            "margin": null,
            "max_height": null,
            "max_width": null,
            "min_height": null,
            "min_width": null,
            "object_fit": null,
            "object_position": null,
            "order": null,
            "overflow": null,
            "overflow_x": null,
            "overflow_y": null,
            "padding": null,
            "right": null,
            "top": null,
            "visibility": null,
            "width": null
          }
        },
        "ade22f1ecb7640aaa7af023ab4fe1e21": {
          "model_module": "@jupyter-widgets/controls",
          "model_module_version": "1.5.0",
          "model_name": "HTMLModel",
          "state": {
            "_dom_classes": [],
            "_model_module": "@jupyter-widgets/controls",
            "_model_module_version": "1.5.0",
            "_model_name": "HTMLModel",
            "_view_count": null,
            "_view_module": "@jupyter-widgets/controls",
            "_view_module_version": "1.5.0",
            "_view_name": "HTMLView",
            "description": "",
            "description_tooltip": null,
            "layout": "IPY_MODEL_91030591596c4ea3982d9e211aa7f574",
            "placeholder": "​",
            "style": "IPY_MODEL_5f78a7429d0d4d0fabb5a4c1809fc749",
            "value": " 92125/92125 [00:00&lt;00:00, 245599.89it/s]"
          }
        },
        "b04d506e42f240e3969a6596a2d139a7": {
          "model_module": "@jupyter-widgets/controls",
          "model_module_version": "1.5.0",
          "model_name": "HTMLModel",
          "state": {
            "_dom_classes": [],
            "_model_module": "@jupyter-widgets/controls",
            "_model_module_version": "1.5.0",
            "_model_name": "HTMLModel",
            "_view_count": null,
            "_view_module": "@jupyter-widgets/controls",
            "_view_module_version": "1.5.0",
            "_view_name": "HTMLView",
            "description": "",
            "description_tooltip": null,
            "layout": "IPY_MODEL_1588cb5158414b73a0439c98611fde51",
            "placeholder": "​",
            "style": "IPY_MODEL_b785cadffc9048e2a2c99b94d4dd3d07",
            "value": " 43111/43111 [00:00&lt;00:00, 70585.36it/s]"
          }
        },
        "b2fd83152c96482ca926a3da0104d6e2": {
          "model_module": "@jupyter-widgets/controls",
          "model_module_version": "1.5.0",
          "model_name": "ProgressStyleModel",
          "state": {
            "_model_module": "@jupyter-widgets/controls",
            "_model_module_version": "1.5.0",
            "_model_name": "ProgressStyleModel",
            "_view_count": null,
            "_view_module": "@jupyter-widgets/base",
            "_view_module_version": "1.2.0",
            "_view_name": "StyleView",
            "bar_color": null,
            "description_width": ""
          }
        },
        "b64a87b1509e44609a1992b0e307edc6": {
          "model_module": "@jupyter-widgets/controls",
          "model_module_version": "1.5.0",
          "model_name": "HTMLModel",
          "state": {
            "_dom_classes": [],
            "_model_module": "@jupyter-widgets/controls",
            "_model_module_version": "1.5.0",
            "_model_name": "HTMLModel",
            "_view_count": null,
            "_view_module": "@jupyter-widgets/controls",
            "_view_module_version": "1.5.0",
            "_view_name": "HTMLView",
            "description": "",
            "description_tooltip": null,
            "layout": "IPY_MODEL_1402121bac524305b623d677b953a691",
            "placeholder": "​",
            "style": "IPY_MODEL_9ead1146fdbe430b808c82201e29d3d6",
            "value": "100%"
          }
        },
        "b785cadffc9048e2a2c99b94d4dd3d07": {
          "model_module": "@jupyter-widgets/controls",
          "model_module_version": "1.5.0",
          "model_name": "DescriptionStyleModel",
          "state": {
            "_model_module": "@jupyter-widgets/controls",
            "_model_module_version": "1.5.0",
            "_model_name": "DescriptionStyleModel",
            "_view_count": null,
            "_view_module": "@jupyter-widgets/base",
            "_view_module_version": "1.2.0",
            "_view_name": "StyleView",
            "description_width": ""
          }
        },
        "bada356e272640688ab6cb1087aba90b": {
          "model_module": "@jupyter-widgets/controls",
          "model_module_version": "1.5.0",
          "model_name": "HTMLModel",
          "state": {
            "_dom_classes": [],
            "_model_module": "@jupyter-widgets/controls",
            "_model_module_version": "1.5.0",
            "_model_name": "HTMLModel",
            "_view_count": null,
            "_view_module": "@jupyter-widgets/controls",
            "_view_module_version": "1.5.0",
            "_view_name": "HTMLView",
            "description": "",
            "description_tooltip": null,
            "layout": "IPY_MODEL_4e9398b25cab495d9907adddf5af1128",
            "placeholder": "​",
            "style": "IPY_MODEL_8017f2232e1846d1b60417165264473f",
            "value": "100%"
          }
        },
        "bea5459a3c0d4e4a9edf83d0a4498471": {
          "model_module": "@jupyter-widgets/controls",
          "model_module_version": "1.5.0",
          "model_name": "DescriptionStyleModel",
          "state": {
            "_model_module": "@jupyter-widgets/controls",
            "_model_module_version": "1.5.0",
            "_model_name": "DescriptionStyleModel",
            "_view_count": null,
            "_view_module": "@jupyter-widgets/base",
            "_view_module_version": "1.2.0",
            "_view_name": "StyleView",
            "description_width": ""
          }
        },
        "c07e0ecb92ef44e28ac0a2aea47bd713": {
          "model_module": "@jupyter-widgets/controls",
          "model_module_version": "1.5.0",
          "model_name": "FloatProgressModel",
          "state": {
            "_dom_classes": [],
            "_model_module": "@jupyter-widgets/controls",
            "_model_module_version": "1.5.0",
            "_model_name": "FloatProgressModel",
            "_view_count": null,
            "_view_module": "@jupyter-widgets/controls",
            "_view_module_version": "1.5.0",
            "_view_name": "ProgressView",
            "bar_style": "success",
            "description": "",
            "description_tooltip": null,
            "layout": "IPY_MODEL_e26b16481ea141a69c33410456775945",
            "max": 921246,
            "min": 0,
            "orientation": "horizontal",
            "style": "IPY_MODEL_b2fd83152c96482ca926a3da0104d6e2",
            "value": 921246
          }
        },
        "c3e38f98d3c546acb1bfa26dc913cb46": {
          "model_module": "@jupyter-widgets/controls",
          "model_module_version": "1.5.0",
          "model_name": "HTMLModel",
          "state": {
            "_dom_classes": [],
            "_model_module": "@jupyter-widgets/controls",
            "_model_module_version": "1.5.0",
            "_model_name": "HTMLModel",
            "_view_count": null,
            "_view_module": "@jupyter-widgets/controls",
            "_view_module_version": "1.5.0",
            "_view_name": "HTMLView",
            "description": "",
            "description_tooltip": null,
            "layout": "IPY_MODEL_06539de4839d406a875d929442cd7442",
            "placeholder": "​",
            "style": "IPY_MODEL_e887ca0f79ae480ca71f0959ba3b0913",
            "value": " 921246/921246 [00:03&lt;00:00, 315777.58it/s]"
          }
        },
        "ccaa30e261c847e98eeb87f3928fdb72": {
          "model_module": "@jupyter-widgets/controls",
          "model_module_version": "1.5.0",
          "model_name": "ProgressStyleModel",
          "state": {
            "_model_module": "@jupyter-widgets/controls",
            "_model_module_version": "1.5.0",
            "_model_name": "ProgressStyleModel",
            "_view_count": null,
            "_view_module": "@jupyter-widgets/base",
            "_view_module_version": "1.2.0",
            "_view_name": "StyleView",
            "bar_color": null,
            "description_width": "initial"
          }
        },
        "ce6ba2a5ff624cb4b27cf13aae029d33": {
          "model_module": "@jupyter-widgets/controls",
          "model_module_version": "1.5.0",
          "model_name": "HBoxModel",
          "state": {
            "_dom_classes": [],
            "_model_module": "@jupyter-widgets/controls",
            "_model_module_version": "1.5.0",
            "_model_name": "HBoxModel",
            "_view_count": null,
            "_view_module": "@jupyter-widgets/controls",
            "_view_module_version": "1.5.0",
            "_view_name": "HBoxView",
            "box_style": "",
            "children": [
              "IPY_MODEL_bada356e272640688ab6cb1087aba90b",
              "IPY_MODEL_c07e0ecb92ef44e28ac0a2aea47bd713",
              "IPY_MODEL_c3e38f98d3c546acb1bfa26dc913cb46"
            ],
            "layout": "IPY_MODEL_6211daf4430c454eb6838a9768cc6615"
          }
        },
        "d00fdcfd829e4d049f4b5bd148865c20": {
          "model_module": "@jupyter-widgets/base",
          "model_module_version": "1.2.0",
          "model_name": "LayoutModel",
          "state": {
            "_model_module": "@jupyter-widgets/base",
            "_model_module_version": "1.2.0",
            "_model_name": "LayoutModel",
            "_view_count": null,
            "_view_module": "@jupyter-widgets/base",
            "_view_module_version": "1.2.0",
            "_view_name": "LayoutView",
            "align_content": null,
            "align_items": null,
            "align_self": null,
            "border": null,
            "bottom": null,
            "display": null,
            "flex": null,
            "flex_flow": null,
            "grid_area": null,
            "grid_auto_columns": null,
            "grid_auto_flow": null,
            "grid_auto_rows": null,
            "grid_column": null,
            "grid_gap": null,
            "grid_row": null,
            "grid_template_areas": null,
            "grid_template_columns": null,
            "grid_template_rows": null,
            "height": null,
            "justify_content": null,
            "justify_items": null,
            "left": null,
            "margin": null,
            "max_height": null,
            "max_width": null,
            "min_height": null,
            "min_width": null,
            "object_fit": null,
            "object_position": null,
            "order": null,
            "overflow": null,
            "overflow_x": null,
            "overflow_y": null,
            "padding": null,
            "right": null,
            "top": null,
            "visibility": null,
            "width": null
          }
        },
        "e26b16481ea141a69c33410456775945": {
          "model_module": "@jupyter-widgets/base",
          "model_module_version": "1.2.0",
          "model_name": "LayoutModel",
          "state": {
            "_model_module": "@jupyter-widgets/base",
            "_model_module_version": "1.2.0",
            "_model_name": "LayoutModel",
            "_view_count": null,
            "_view_module": "@jupyter-widgets/base",
            "_view_module_version": "1.2.0",
            "_view_name": "LayoutView",
            "align_content": null,
            "align_items": null,
            "align_self": null,
            "border": null,
            "bottom": null,
            "display": null,
            "flex": null,
            "flex_flow": null,
            "grid_area": null,
            "grid_auto_columns": null,
            "grid_auto_flow": null,
            "grid_auto_rows": null,
            "grid_column": null,
            "grid_gap": null,
            "grid_row": null,
            "grid_template_areas": null,
            "grid_template_columns": null,
            "grid_template_rows": null,
            "height": null,
            "justify_content": null,
            "justify_items": null,
            "left": null,
            "margin": null,
            "max_height": null,
            "max_width": null,
            "min_height": null,
            "min_width": null,
            "object_fit": null,
            "object_position": null,
            "order": null,
            "overflow": null,
            "overflow_x": null,
            "overflow_y": null,
            "padding": null,
            "right": null,
            "top": null,
            "visibility": null,
            "width": null
          }
        },
        "e887ca0f79ae480ca71f0959ba3b0913": {
          "model_module": "@jupyter-widgets/controls",
          "model_module_version": "1.5.0",
          "model_name": "DescriptionStyleModel",
          "state": {
            "_model_module": "@jupyter-widgets/controls",
            "_model_module_version": "1.5.0",
            "_model_name": "DescriptionStyleModel",
            "_view_count": null,
            "_view_module": "@jupyter-widgets/base",
            "_view_module_version": "1.2.0",
            "_view_name": "StyleView",
            "description_width": ""
          }
        },
        "ec06c247115f440abe8952d7a3280f58": {
          "model_module": "@jupyter-widgets/base",
          "model_module_version": "1.2.0",
          "model_name": "LayoutModel",
          "state": {
            "_model_module": "@jupyter-widgets/base",
            "_model_module_version": "1.2.0",
            "_model_name": "LayoutModel",
            "_view_count": null,
            "_view_module": "@jupyter-widgets/base",
            "_view_module_version": "1.2.0",
            "_view_name": "LayoutView",
            "align_content": null,
            "align_items": null,
            "align_self": null,
            "border": null,
            "bottom": null,
            "display": null,
            "flex": null,
            "flex_flow": null,
            "grid_area": null,
            "grid_auto_columns": null,
            "grid_auto_flow": null,
            "grid_auto_rows": null,
            "grid_column": null,
            "grid_gap": null,
            "grid_row": null,
            "grid_template_areas": null,
            "grid_template_columns": null,
            "grid_template_rows": null,
            "height": null,
            "justify_content": null,
            "justify_items": null,
            "left": null,
            "margin": null,
            "max_height": null,
            "max_width": null,
            "min_height": null,
            "min_width": null,
            "object_fit": null,
            "object_position": null,
            "order": null,
            "overflow": null,
            "overflow_x": null,
            "overflow_y": null,
            "padding": null,
            "right": null,
            "top": null,
            "visibility": null,
            "width": null
          }
        },
        "ee60db1b39a3455280f003968c586921": {
          "model_module": "@jupyter-widgets/controls",
          "model_module_version": "1.5.0",
          "model_name": "HBoxModel",
          "state": {
            "_dom_classes": [],
            "_model_module": "@jupyter-widgets/controls",
            "_model_module_version": "1.5.0",
            "_model_name": "HBoxModel",
            "_view_count": null,
            "_view_module": "@jupyter-widgets/controls",
            "_view_module_version": "1.5.0",
            "_view_name": "HBoxView",
            "box_style": "",
            "children": [
              "IPY_MODEL_1842ca626b174b5985d9792b58f972d6",
              "IPY_MODEL_7d0e4fb6adcb437a98cae5a4424874ac"
            ],
            "layout": "IPY_MODEL_374252a5ca51412792d3ebec8fcf8dc2"
          }
        },
        "fa4ffa1858ac4d318b9c7f23a76b34f7": {
          "model_module": "@jupyter-widgets/base",
          "model_module_version": "1.2.0",
          "model_name": "LayoutModel",
          "state": {
            "_model_module": "@jupyter-widgets/base",
            "_model_module_version": "1.2.0",
            "_model_name": "LayoutModel",
            "_view_count": null,
            "_view_module": "@jupyter-widgets/base",
            "_view_module_version": "1.2.0",
            "_view_name": "LayoutView",
            "align_content": null,
            "align_items": null,
            "align_self": null,
            "border": null,
            "bottom": null,
            "display": null,
            "flex": null,
            "flex_flow": null,
            "grid_area": null,
            "grid_auto_columns": null,
            "grid_auto_flow": null,
            "grid_auto_rows": null,
            "grid_column": null,
            "grid_gap": null,
            "grid_row": null,
            "grid_template_areas": null,
            "grid_template_columns": null,
            "grid_template_rows": null,
            "height": null,
            "justify_content": null,
            "justify_items": null,
            "left": null,
            "margin": null,
            "max_height": null,
            "max_width": null,
            "min_height": null,
            "min_width": null,
            "object_fit": null,
            "object_position": null,
            "order": null,
            "overflow": null,
            "overflow_x": null,
            "overflow_y": null,
            "padding": null,
            "right": null,
            "top": null,
            "visibility": null,
            "width": null
          }
        }
      }
    }
  },
  "nbformat": 4,
  "nbformat_minor": 0
}
