{
 "cells": [
  {
   "cell_type": "markdown",
   "metadata": {},
   "source": [
    "### Constrasive Loss : 방법2\n",
    "\n",
    "$$ L = 1/2((1-y_i)(D^2) + y_i(max(0, m-D))^2 $$\n",
    "\n",
    "### Triplet Loss : 방법2\n",
    "\n",
    "$$ L = max(d(a,p)-d(a,n)+margin, 0) $$\n",
    "\n",
    "(a,p,n) is parameter which means (anchor, positive, negative)"
   ]
  },
  {
   "cell_type": "code",
   "execution_count": null,
   "metadata": {},
   "outputs": [],
   "source": []
  }
 ],
 "metadata": {
  "language_info": {
   "name": "python"
  },
  "orig_nbformat": 4
 },
 "nbformat": 4,
 "nbformat_minor": 2
}
